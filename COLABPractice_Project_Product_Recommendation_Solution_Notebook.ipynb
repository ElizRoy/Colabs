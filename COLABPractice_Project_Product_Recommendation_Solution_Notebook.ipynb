{
  "nbformat": 4,
  "nbformat_minor": 0,
  "metadata": {
    "colab": {
      "name": "COLABPractice_Project_Product_Recommendation_Solution_Notebook.ipynb",
      "provenance": [],
      "collapsed_sections": [],
      "include_colab_link": true
    },
    "kernelspec": {
      "display_name": "Python 3",
      "language": "python",
      "name": "python3"
    },
    "language_info": {
      "codemirror_mode": {
        "name": "ipython",
        "version": 3
      },
      "file_extension": ".py",
      "mimetype": "text/x-python",
      "name": "python",
      "nbconvert_exporter": "python",
      "pygments_lexer": "ipython3",
      "version": "3.8.8"
    }
  },
  "cells": [
    {
      "cell_type": "markdown",
      "metadata": {
        "id": "view-in-github",
        "colab_type": "text"
      },
      "source": [
        "<a href=\"https://colab.research.google.com/github/Resh-Eli/Colabs/blob/main/COLABPractice_Project_Product_Recommendation_Solution_Notebook.ipynb\" target=\"_parent\"><img src=\"https://colab.research.google.com/assets/colab-badge.svg\" alt=\"Open In Colab\"/></a>"
      ]
    },
    {
      "cell_type": "markdown",
      "metadata": {
        "id": "Cf3GloRNvOOG"
      },
      "source": [
        "# Practice Project - Recommendation Systems: Amazon Product Reviews\n",
        "\n",
        "## **Marks: 40**\n",
        "\n",
        "__________\n",
        "\n",
        "Welcome to the Practice Project on Recommendation Systems. We will work with the Amazon product reviews dataset for this project. The dataset contains ratings of different electronic products. It does not include information about the products or reviews to avoid bias while building the model. \n",
        "\n",
        "--------------\n",
        "### Context: \n",
        "--------------\n",
        "\n",
        "E-commerce websites like Amazon, Flipkart uses different recommendation models to provide personalized suggestions to different users. Amazon currently uses item-to-item collaborative filtering, which scales to massive data sets and produces high-quality recommendations in real-time.\n",
        "\n",
        "----------------\n",
        "### Objective:\n",
        "----------------\n",
        "\n",
        "Build a recommendation system to recommend products to customers based on their previous ratings for other products.\n",
        "\n",
        "--------------\n",
        "### Dataset:\n",
        "--------------\n",
        "\n",
        "The Amazon dataset contains the following attributes:\n",
        "\n",
        "- **userId:** Every user identified with a unique id\n",
        "- **productId:** Every product identified with a unique id\n",
        "- **Rating:** Rating of the corresponding product by the corresponding user\n",
        "- **timestamp:** Time of the rating (ignore this column for this exercise)"
      ]
    },
    {
      "cell_type": "code",
      "metadata": {
        "colab": {
          "base_uri": "https://localhost:8080/"
        },
        "id": "FYrMMOH6sm8f",
        "outputId": "47f903d0-cf97-4839-ba68-6aba8c11406e"
      },
      "source": [
        "# uncomment if you are using google colab\n",
        "\n",
        "from google.colab import drive\n",
        "drive.mount('/content/drive')"
      ],
      "execution_count": 1,
      "outputs": [
        {
          "output_type": "stream",
          "name": "stdout",
          "text": [
            "Mounted at /content/drive\n"
          ]
        }
      ]
    },
    {
      "cell_type": "markdown",
      "metadata": {
        "id": "9hczXgBkvOOG"
      },
      "source": [
        "### Importing Libraries\n",
        "#### One of the first steps in any data science task is importing the necessary tools you will use."
      ]
    },
    {
      "cell_type": "code",
      "metadata": {
        "colab": {
          "base_uri": "https://localhost:8080/"
        },
        "id": "kS7wNcL01vL5",
        "outputId": "a43784f5-b20a-45bf-8c06-5071f7345a4c"
      },
      "source": [
        "# installing surprise library, only do it for first time\n",
        "!pip install surprise"
      ],
      "execution_count": 3,
      "outputs": [
        {
          "output_type": "stream",
          "name": "stdout",
          "text": [
            "Collecting surprise\n",
            "  Downloading surprise-0.1-py2.py3-none-any.whl (1.8 kB)\n",
            "Collecting scikit-surprise\n",
            "  Downloading scikit-surprise-1.1.1.tar.gz (11.8 MB)\n",
            "\u001b[K     |████████████████████████████████| 11.8 MB 3.8 MB/s \n",
            "\u001b[?25hRequirement already satisfied: joblib>=0.11 in /usr/local/lib/python3.7/dist-packages (from scikit-surprise->surprise) (1.1.0)\n",
            "Requirement already satisfied: numpy>=1.11.2 in /usr/local/lib/python3.7/dist-packages (from scikit-surprise->surprise) (1.19.5)\n",
            "Requirement already satisfied: scipy>=1.0.0 in /usr/local/lib/python3.7/dist-packages (from scikit-surprise->surprise) (1.4.1)\n",
            "Requirement already satisfied: six>=1.10.0 in /usr/local/lib/python3.7/dist-packages (from scikit-surprise->surprise) (1.15.0)\n",
            "Building wheels for collected packages: scikit-surprise\n",
            "  Building wheel for scikit-surprise (setup.py) ... \u001b[?25l\u001b[?25hdone\n",
            "  Created wheel for scikit-surprise: filename=scikit_surprise-1.1.1-cp37-cp37m-linux_x86_64.whl size=1619396 sha256=ee4e0337478f6b8f45b1365af2b5b0e10572dcb79a8d3f2c366ba65718359722\n",
            "  Stored in directory: /root/.cache/pip/wheels/76/44/74/b498c42be47b2406bd27994e16c5188e337c657025ab400c1c\n",
            "Successfully built scikit-surprise\n",
            "Installing collected packages: scikit-surprise, surprise\n",
            "Successfully installed scikit-surprise-1.1.1 surprise-0.1\n"
          ]
        }
      ]
    },
    {
      "cell_type": "code",
      "metadata": {
        "id": "Gem2ozi_vOOG"
      },
      "source": [
        "import warnings\n",
        "warnings.filterwarnings('ignore')\n",
        "\n",
        "import numpy as np\n",
        "import pandas as pd\n",
        "\n",
        "import matplotlib.pyplot as plt\n",
        "import seaborn as sns\n",
        "\n",
        "from surprise import accuracy\n",
        "\n",
        "# class is used to parse a file containing ratings, data should be in structure - user ; item ; rating\n",
        "from surprise.reader import Reader\n",
        "\n",
        "# class for loading datasets\n",
        "from surprise.dataset import Dataset\n",
        "\n",
        "# for model tuning model hyper-parameters\n",
        "from surprise.model_selection import GridSearchCV\n",
        "\n",
        "# for splitting the rating data in train and test dataset\n",
        "from surprise.model_selection import train_test_split\n",
        "\n",
        "# for implementing similarity based recommendation system\n",
        "from surprise.prediction_algorithms.knns import KNNBasic\n",
        "\n",
        "# for implementing matrix factorization based recommendation system\n",
        "from surprise.prediction_algorithms.matrix_factorization import SVD\n",
        "\n",
        "from collections import defaultdict\n",
        "\n",
        "# for implementing cross validation\n",
        "from surprise.model_selection import KFold"
      ],
      "execution_count": 4,
      "outputs": []
    },
    {
      "cell_type": "markdown",
      "metadata": {
        "id": "ewHMWerQ2N9T"
      },
      "source": [
        "### Loading the data"
      ]
    },
    {
      "cell_type": "code",
      "metadata": {
        "id": "EdQIx3OLvOOG"
      },
      "source": [
        "#col_names = ['user_id', 'item_id', 'rating', 'timestamp']\n",
        "rating = pd.read_csv('/content/drive/MyDrive/MIT COURSE/Colab Notebooks/Recommendation system/ratings_Electronics.csv', names=['user_id', 'item_id', 'rating', 'timestamp'])\n",
        "rating = rating.drop('timestamp', axis=1)"
      ],
      "execution_count": 5,
      "outputs": []
    },
    {
      "cell_type": "markdown",
      "metadata": {
        "id": "WAW3gTmB2N9a"
      },
      "source": [
        "Let's check the **info** of the data"
      ]
    },
    {
      "cell_type": "code",
      "metadata": {
        "colab": {
          "base_uri": "https://localhost:8080/"
        },
        "id": "8zF1K1hDvOOG",
        "outputId": "f1585ef9-bc4d-403e-e7d6-770647d14729"
      },
      "source": [
        "rating.info()"
      ],
      "execution_count": 6,
      "outputs": [
        {
          "output_type": "stream",
          "name": "stdout",
          "text": [
            "<class 'pandas.core.frame.DataFrame'>\n",
            "RangeIndex: 7824482 entries, 0 to 7824481\n",
            "Data columns (total 3 columns):\n",
            " #   Column   Dtype  \n",
            "---  ------   -----  \n",
            " 0   user_id  object \n",
            " 1   item_id  object \n",
            " 2   rating   float64\n",
            "dtypes: float64(1), object(2)\n",
            "memory usage: 179.1+ MB\n"
          ]
        }
      ]
    },
    {
      "cell_type": "code",
      "metadata": {
        "colab": {
          "base_uri": "https://localhost:8080/"
        },
        "id": "kvO4aWhACGez",
        "outputId": "76a36353-5d9e-4dd6-c045-fc148431baef"
      },
      "source": [
        "len(rating)"
      ],
      "execution_count": 7,
      "outputs": [
        {
          "output_type": "execute_result",
          "data": {
            "text/plain": [
              "7824482"
            ]
          },
          "metadata": {},
          "execution_count": 7
        }
      ]
    },
    {
      "cell_type": "markdown",
      "metadata": {
        "id": "202Ux9MH2N9f"
      },
      "source": [
        "- There are **65290 observations** and **4 columns** in the data\n",
        "- The data type of the timestamp column is int64 which is not correct. We can convert this to DateTime format but **we don't need timestamp for our analysis**. Hence, **we can drop this column**"
      ]
    },
    {
      "cell_type": "code",
      "metadata": {
        "id": "fltadjTcvOOH"
      },
      "source": [
        "#Dropping timestamp column\n",
        "#rating = rating.drop(['timestamp'], axis=1)"
      ],
      "execution_count": null,
      "outputs": []
    },
    {
      "cell_type": "markdown",
      "metadata": {
        "id": "BsXibw2_6Z1S"
      },
      "source": [
        "### **Question 1: Exploring the dataset (7 Marks)**\n",
        "\n",
        "#### Q 1.1 Print the top 5 rows of the dataset (1 Mark)"
      ]
    },
    {
      "cell_type": "code",
      "metadata": {
        "colab": {
          "base_uri": "https://localhost:8080/",
          "height": 206
        },
        "id": "1Q6gs-IO2N9i",
        "outputId": "8d79a05a-dd94-40c0-a6ce-43c31d5ad022"
      },
      "source": [
        "#printing the top 5 rows of the dataset\n",
        "rating.head()"
      ],
      "execution_count": 8,
      "outputs": [
        {
          "output_type": "execute_result",
          "data": {
            "text/html": [
              "<div>\n",
              "<style scoped>\n",
              "    .dataframe tbody tr th:only-of-type {\n",
              "        vertical-align: middle;\n",
              "    }\n",
              "\n",
              "    .dataframe tbody tr th {\n",
              "        vertical-align: top;\n",
              "    }\n",
              "\n",
              "    .dataframe thead th {\n",
              "        text-align: right;\n",
              "    }\n",
              "</style>\n",
              "<table border=\"1\" class=\"dataframe\">\n",
              "  <thead>\n",
              "    <tr style=\"text-align: right;\">\n",
              "      <th></th>\n",
              "      <th>user_id</th>\n",
              "      <th>item_id</th>\n",
              "      <th>rating</th>\n",
              "    </tr>\n",
              "  </thead>\n",
              "  <tbody>\n",
              "    <tr>\n",
              "      <th>0</th>\n",
              "      <td>AKM1MP6P0OYPR</td>\n",
              "      <td>0132793040</td>\n",
              "      <td>5.0</td>\n",
              "    </tr>\n",
              "    <tr>\n",
              "      <th>1</th>\n",
              "      <td>A2CX7LUOHB2NDG</td>\n",
              "      <td>0321732944</td>\n",
              "      <td>5.0</td>\n",
              "    </tr>\n",
              "    <tr>\n",
              "      <th>2</th>\n",
              "      <td>A2NWSAGRHCP8N5</td>\n",
              "      <td>0439886341</td>\n",
              "      <td>1.0</td>\n",
              "    </tr>\n",
              "    <tr>\n",
              "      <th>3</th>\n",
              "      <td>A2WNBOD3WNDNKT</td>\n",
              "      <td>0439886341</td>\n",
              "      <td>3.0</td>\n",
              "    </tr>\n",
              "    <tr>\n",
              "      <th>4</th>\n",
              "      <td>A1GI0U4ZRJA8WN</td>\n",
              "      <td>0439886341</td>\n",
              "      <td>1.0</td>\n",
              "    </tr>\n",
              "  </tbody>\n",
              "</table>\n",
              "</div>"
            ],
            "text/plain": [
              "          user_id     item_id  rating\n",
              "0   AKM1MP6P0OYPR  0132793040     5.0\n",
              "1  A2CX7LUOHB2NDG  0321732944     5.0\n",
              "2  A2NWSAGRHCP8N5  0439886341     1.0\n",
              "3  A2WNBOD3WNDNKT  0439886341     3.0\n",
              "4  A1GI0U4ZRJA8WN  0439886341     1.0"
            ]
          },
          "metadata": {},
          "execution_count": 8
        }
      ]
    },
    {
      "cell_type": "markdown",
      "metadata": {
        "id": "RIYnXf076Z1T"
      },
      "source": [
        "#### Q 1.2 Describe the distribution of ratings. (1 Mark)"
      ]
    },
    {
      "cell_type": "code",
      "metadata": {
        "colab": {
          "base_uri": "https://localhost:8080/",
          "height": 293
        },
        "id": "gNJzJWjj6Z1T",
        "outputId": "6cada27c-a26c-41e7-c886-1f5dafecfc97"
      },
      "source": [
        "plt.figure(figsize = (12, 4))\n",
        "sns.countplot(x=\"rating\", data=rating)\n",
        "\n",
        "plt.tick_params(labelsize = 10)\n",
        "plt.title(\"Distribution of Ratings \", fontsize = 10)\n",
        "plt.xlabel(\"Ratings\", fontsize = 10)\n",
        "plt.ylabel(\"Number of Ratings\", fontsize = 10)\n",
        "plt.show()"
      ],
      "execution_count": 21,
      "outputs": [
        {
          "output_type": "display_data",
          "data": {
            "image/png": "[encoded data removed]",
            "text/plain": [
              "<Figure size 864x288 with 1 Axes>"
            ]
          },
          "metadata": {
            "needs_background": "light"
          }
        }
      ]
    },
    {
      "cell_type": "markdown",
      "metadata": {
        "id": "DPq3tw086Z1U"
      },
      "source": [
        "**Write your Answer here:**\n",
        "\n",
        "- About Data -> There 3 Features {User ID, Item ID, & Rating} and there are 65290 ratings in the dataset.*\n",
        "\n",
        "- As per Histogram, Rating '5' has highest count of ratings (~24K).Rating '4' being second with 13K+ and Rating '3' being third in count of ratings with a little over 5K.\n",
        "\n",
        "- The ratings are biased towards 4, & 5 more than 1,2 & 3. Rating '1' and '2' are just ~2K & ~3K respectively."
      ]
    },
    {
      "cell_type": "code",
      "metadata": {
        "id": "iCtSJNVe1vL9"
      },
      "source": [
        "df=rating.copy()"
      ],
      "execution_count": 9,
      "outputs": []
    },
    {
      "cell_type": "markdown",
      "metadata": {
        "id": "8HPeNPZ11vL9"
      },
      "source": [
        "**As this dataset is very large and has 7824482 observations, it is not computationally possible to build a model using this.Moreover, there are many users who have only rated a few products and also there are products which are rated by very less users. Hence we can reduce the dataset by considering certain Logical assumption.**\n",
        "\n",
        "Here, We will be taking users who have given at least 50 rating, and the products who has at least 5 rating, as when we shop online we prefer to have some number of rating of a product. "
      ]
    },
    {
      "cell_type": "code",
      "metadata": {
        "id": "DW-Ju69NhFXy"
      },
      "source": [
        "# Get the column containing the users\n",
        "users = rating.user_id\n",
        "# Create a dictionary from users to their number of ratings\n",
        "ratings_count = dict()\n",
        "for user in users:\n",
        "    # If we already have the user, just add 1 to their rating count\n",
        "    if user in ratings_count:\n",
        "        ratings_count[user] += 1\n",
        "    # Otherwise, set their rating count to 1\n",
        "    else:\n",
        "        ratings_count[user] = 1    "
      ],
      "execution_count": 24,
      "outputs": []
    },
    {
      "cell_type": "code",
      "metadata": {
        "id": "zWhzrLu-hFXy"
      },
      "source": [
        "# We want our users to have at least 50 ratings to be considred\n",
        "RATINGS_CUTOFF = 50\n",
        "remove_users = []\n",
        "for user, num_ratings in ratings_count.items():\n",
        "    if num_ratings < RATINGS_CUTOFF:\n",
        "        remove_users.append(user)\n",
        "rating = rating.loc[~rating.user_id.isin(remove_users)]"
      ],
      "execution_count": 25,
      "outputs": []
    },
    {
      "cell_type": "code",
      "metadata": {
        "colab": {
          "base_uri": "https://localhost:8080/"
        },
        "id": "XktiDwuz6Z1U",
        "outputId": "b0ed180e-92c3-4e88-f54e-09f25c32f6cf"
      },
      "source": [
        "rating.shape"
      ],
      "execution_count": 26,
      "outputs": [
        {
          "output_type": "execute_result",
          "data": {
            "text/plain": [
              "(107263, 3)"
            ]
          },
          "metadata": {},
          "execution_count": 26
        }
      ]
    },
    {
      "cell_type": "code",
      "metadata": {
        "id": "cfi0WBwm1vL9"
      },
      "source": [
        "# Get the column containing the users\n",
        "users = rating.item_id\n",
        "# Create a dictionary from users to their number of ratings\n",
        "ratings_count = dict()\n",
        "for user in users:\n",
        "    # If we already have the user, just add 1 to their rating count\n",
        "    if user in ratings_count:\n",
        "        ratings_count[user] += 1\n",
        "    # Otherwise, set their rating count to 1\n",
        "    else:\n",
        "        ratings_count[user] = 1    "
      ],
      "execution_count": 27,
      "outputs": []
    },
    {
      "cell_type": "code",
      "metadata": {
        "id": "BUePcXXE1vL-"
      },
      "source": [
        "# We want our item to have at least 5 ratings to be considred\n",
        "RATINGS_CUTOFF = 5\n",
        "remove_users = []\n",
        "for user, num_ratings in ratings_count.items():\n",
        "    if num_ratings < RATINGS_CUTOFF:\n",
        "        remove_users.append(user)\n",
        "rating = rating.loc[~rating.item_id.isin(remove_users)]"
      ],
      "execution_count": 28,
      "outputs": []
    },
    {
      "cell_type": "code",
      "metadata": {
        "colab": {
          "base_uri": "https://localhost:8080/"
        },
        "id": "Yw4-POKE1vL-",
        "outputId": "2868f977-9697-4453-f446-ef93079abbfa"
      },
      "source": [
        "rating.shape"
      ],
      "execution_count": 29,
      "outputs": [
        {
          "output_type": "execute_result",
          "data": {
            "text/plain": [
              "(59407, 3)"
            ]
          },
          "metadata": {},
          "execution_count": 29
        }
      ]
    },
    {
      "cell_type": "markdown",
      "metadata": {
        "id": "UOBD03d9vOOH"
      },
      "source": [
        "#### Q 1.3 What is the total number of unique users and unique items? (1 Mark)"
      ]
    },
    {
      "cell_type": "code",
      "metadata": {
        "colab": {
          "base_uri": "https://localhost:8080/"
        },
        "id": "RMpbsZGGvOOH",
        "outputId": "2a028a83-fd16-4025-d634-894a15227074"
      },
      "source": [
        "#Finding number of unique users\n",
        "rating['user_id'].nunique()"
      ],
      "execution_count": 30,
      "outputs": [
        {
          "output_type": "execute_result",
          "data": {
            "text/plain": [
              "1320"
            ]
          },
          "metadata": {},
          "execution_count": 30
        }
      ]
    },
    {
      "cell_type": "markdown",
      "metadata": {
        "id": "CI8gofnx2N9m"
      },
      "source": [
        "**Write your Answer here:**\n",
        "\n",
        "- There are **1540 users** in the dataset"
      ]
    },
    {
      "cell_type": "code",
      "metadata": {
        "colab": {
          "base_uri": "https://localhost:8080/"
        },
        "id": "9A6Qmo_6vOOH",
        "outputId": "49fe0adb-ab58-40b0-a181-af2e437db39e"
      },
      "source": [
        "#Finding number of unique items\n",
        "rating['item_id'].nunique()"
      ],
      "execution_count": 31,
      "outputs": [
        {
          "output_type": "execute_result",
          "data": {
            "text/plain": [
              "5232"
            ]
          },
          "metadata": {},
          "execution_count": 31
        }
      ]
    },
    {
      "cell_type": "markdown",
      "metadata": {
        "id": "mDWJghQ62N9o"
      },
      "source": [
        "**Write your Answer here:**\n",
        "\n",
        "- There are **5689 items** in the dataset\n",
        "- As per the number of unique users and items, there is a **possibility of 1540 * 5689 = 8761060\n",
        " ratings** in the dataset. But **we only have 65290 ratings**, i.e. not every user has rated every item in the dataset. And we can build a recommendation system to recommend items to users which they have not interacted with."
      ]
    },
    {
      "cell_type": "markdown",
      "metadata": {
        "id": "mR9tzSzTvOOH"
      },
      "source": [
        "#### Q 1.4 Is there any item that has been interacted with more than once by the same user?"
      ]
    },
    {
      "cell_type": "code",
      "metadata": {
        "colab": {
          "base_uri": "https://localhost:8080/",
          "height": 455
        },
        "id": "xstEDCVfvOOH",
        "outputId": "c942a069-b3ee-4a2a-c4c8-c900e9b35962"
      },
      "source": [
        "rating.groupby(['user_id', 'item_id']).count()"
      ],
      "execution_count": 32,
      "outputs": [
        {
          "output_type": "execute_result",
          "data": {
            "text/html": [
              "<div>\n",
              "<style scoped>\n",
              "    .dataframe tbody tr th:only-of-type {\n",
              "        vertical-align: middle;\n",
              "    }\n",
              "\n",
              "    .dataframe tbody tr th {\n",
              "        vertical-align: top;\n",
              "    }\n",
              "\n",
              "    .dataframe thead th {\n",
              "        text-align: right;\n",
              "    }\n",
              "</style>\n",
              "<table border=\"1\" class=\"dataframe\">\n",
              "  <thead>\n",
              "    <tr style=\"text-align: right;\">\n",
              "      <th></th>\n",
              "      <th></th>\n",
              "      <th>rating</th>\n",
              "    </tr>\n",
              "    <tr>\n",
              "      <th>user_id</th>\n",
              "      <th>item_id</th>\n",
              "      <th></th>\n",
              "    </tr>\n",
              "  </thead>\n",
              "  <tbody>\n",
              "    <tr>\n",
              "      <th rowspan=\"5\" valign=\"top\">A100UD67AHFODS</th>\n",
              "      <th>B00004Z5M1</th>\n",
              "      <td>1</td>\n",
              "    </tr>\n",
              "    <tr>\n",
              "      <th>B0001D3K8A</th>\n",
              "      <td>1</td>\n",
              "    </tr>\n",
              "    <tr>\n",
              "      <th>B000233WJ6</th>\n",
              "      <td>1</td>\n",
              "    </tr>\n",
              "    <tr>\n",
              "      <th>B0002KVQBA</th>\n",
              "      <td>1</td>\n",
              "    </tr>\n",
              "    <tr>\n",
              "      <th>B0002SQ2P2</th>\n",
              "      <td>1</td>\n",
              "    </tr>\n",
              "    <tr>\n",
              "      <th>...</th>\n",
              "      <th>...</th>\n",
              "      <td>...</td>\n",
              "    </tr>\n",
              "    <tr>\n",
              "      <th rowspan=\"5\" valign=\"top\">AZNUHQSHZHSUE</th>\n",
              "      <th>B0072ZQGIG</th>\n",
              "      <td>1</td>\n",
              "    </tr>\n",
              "    <tr>\n",
              "      <th>B007PG02Q4</th>\n",
              "      <td>1</td>\n",
              "    </tr>\n",
              "    <tr>\n",
              "      <th>B007X3VEC0</th>\n",
              "      <td>1</td>\n",
              "    </tr>\n",
              "    <tr>\n",
              "      <th>B009UEAZ84</th>\n",
              "      <td>1</td>\n",
              "    </tr>\n",
              "    <tr>\n",
              "      <th>B00AXZWG8Q</th>\n",
              "      <td>1</td>\n",
              "    </tr>\n",
              "  </tbody>\n",
              "</table>\n",
              "<p>59407 rows × 1 columns</p>\n",
              "</div>"
            ],
            "text/plain": [
              "                           rating\n",
              "user_id        item_id           \n",
              "A100UD67AHFODS B00004Z5M1       1\n",
              "               B0001D3K8A       1\n",
              "               B000233WJ6       1\n",
              "               B0002KVQBA       1\n",
              "               B0002SQ2P2       1\n",
              "...                           ...\n",
              "AZNUHQSHZHSUE  B0072ZQGIG       1\n",
              "               B007PG02Q4       1\n",
              "               B007X3VEC0       1\n",
              "               B009UEAZ84       1\n",
              "               B00AXZWG8Q       1\n",
              "\n",
              "[59407 rows x 1 columns]"
            ]
          },
          "metadata": {},
          "execution_count": 32
        }
      ]
    },
    {
      "cell_type": "code",
      "metadata": {
        "colab": {
          "base_uri": "https://localhost:8080/"
        },
        "id": "d1E2i5rZvOOI",
        "outputId": "e33542b5-93e6-48f1-ba58-e6f940b055b5"
      },
      "source": [
        "rating.groupby(['user_id', 'item_id']).count()['rating'].sum()"
      ],
      "execution_count": 33,
      "outputs": [
        {
          "output_type": "execute_result",
          "data": {
            "text/plain": [
              "59407"
            ]
          },
          "metadata": {},
          "execution_count": 33
        }
      ]
    },
    {
      "cell_type": "markdown",
      "metadata": {
        "id": "ynCEs7q3vOOI"
      },
      "source": [
        "**Write your Answer here:**\n",
        "\n",
        "- The **sum is equal to the total number of observations** which implies that **there is only one interaction between a pair of items and a user**."
      ]
    },
    {
      "cell_type": "markdown",
      "metadata": {
        "id": "JQgjqRnevOOI"
      },
      "source": [
        "#### Q 1.5  Which one is the most interacted item in the dataset?(1 Mark)"
      ]
    },
    {
      "cell_type": "code",
      "metadata": {
        "colab": {
          "base_uri": "https://localhost:8080/"
        },
        "id": "4LBbXdoDvOOI",
        "outputId": "7c8b3b14-3261-4219-8d2a-379ffe70f0e2"
      },
      "source": [
        "rating['item_id'].value_counts()"
      ],
      "execution_count": 34,
      "outputs": [
        {
          "output_type": "execute_result",
          "data": {
            "text/plain": [
              "B0088CJT4U    201\n",
              "B003ES5ZUU    175\n",
              "B000N99BBC    154\n",
              "B00829TIEK    144\n",
              "B007WTAJTO    142\n",
              "             ... \n",
              "B0078I832O      5\n",
              "B000ENPDSW      5\n",
              "B00KHA5G6G      5\n",
              "B009HU6RI8      5\n",
              "B003J2V8AC      5\n",
              "Name: item_id, Length: 5232, dtype: int64"
            ]
          },
          "metadata": {},
          "execution_count": 34
        }
      ]
    },
    {
      "cell_type": "markdown",
      "metadata": {
        "id": "PSo-c_XAvOOI"
      },
      "source": [
        "**Write your Answer here:**\n",
        "\n",
        "- The **Item with ItemId: B0088CJT4U has been interacted by most users** which is **206** times.\n",
        "- But still, there is a possibility of 1540-206 = 1334 more interactions as we have 1540 unique users in our datasets. For those 1334 remaining users, we can build a recommendation system to predict who is most likely to interact with the item.\n",
        "\n",
        "Also, out of these 1334 interactions, we need to consider the distribution of ratings as well."
      ]
    },
    {
      "cell_type": "code",
      "metadata": {
        "colab": {
          "base_uri": "https://localhost:8080/",
          "height": 448
        },
        "id": "fVkc1FK22N9r",
        "outputId": "a44e4a7d-8a28-476e-ac1c-6a561f7c2b24"
      },
      "source": [
        "#Plotting distributions of ratings for 74 interactions with itemid B0088CJT4U\n",
        "plt.figure(figsize=(7,7))\n",
        "\n",
        "rating[rating['item_id'] == 'B0088CJT4U']['rating'].value_counts().plot(kind='bar')\n",
        "\n",
        "plt.xlabel('Rating')\n",
        "\n",
        "plt.ylabel('Count')\n",
        "\n",
        "plt.show()"
      ],
      "execution_count": 35,
      "outputs": [
        {
          "output_type": "display_data",
          "data": {
            "image/png": "[encoded data removed]",
            "text/plain": [
              "<Figure size 504x504 with 1 Axes>"
            ]
          },
          "metadata": {
            "needs_background": "light"
          }
        }
      ]
    },
    {
      "cell_type": "markdown",
      "metadata": {
        "id": "0pQn17ro2N9s"
      },
      "source": [
        "**Write your Answer here:**\n",
        "\n",
        "- We can see that **this item has been liked by the majority of users**, as the count of ratings 5 and 4 is higher than the count of other ratings. \n",
        "- There can be items with very high interactions but the count of ratings 1 and 2 may be much higher than 4 or 5 which would imply that the item is disliked by the majority of users."
      ]
    },
    {
      "cell_type": "markdown",
      "metadata": {
        "id": "0kXJ_iTEvOOI"
      },
      "source": [
        "#### Q 1.6 Which user interacted the most with any item in the dataset? (1 Mark)"
      ]
    },
    {
      "cell_type": "code",
      "metadata": {
        "colab": {
          "base_uri": "https://localhost:8080/"
        },
        "id": "t7ehlMLDvOOI",
        "outputId": "9c907e76-0656-46a2-9219-ce9cb713ee8a"
      },
      "source": [
        "rating['user_id'].value_counts()"
      ],
      "execution_count": 36,
      "outputs": [
        {
          "output_type": "execute_result",
          "data": {
            "text/plain": [
              "ADLVFFE4VBT8      288\n",
              "A3OXHLG6DIBRW8    221\n",
              "A1ODOGXEYECQQ8    211\n",
              "A36K2N527TXXJN    210\n",
              "A25C2M3QF9G7OQ    202\n",
              "                 ... \n",
              "A38QEATH3NODFM      6\n",
              "A12DLJESJKM1OQ      4\n",
              "A3P69DTOXII004      4\n",
              "A2CL818RN52NWN      3\n",
              "A2J4XMWKR8PPD0      3\n",
              "Name: user_id, Length: 1320, dtype: int64"
            ]
          },
          "metadata": {},
          "execution_count": 36
        }
      ]
    },
    {
      "cell_type": "markdown",
      "metadata": {
        "id": "W-Sdna2ovOOI"
      },
      "source": [
        "**Write your Answer here:**\n",
        "\n",
        "- The user with **userId: ADLVFFE4VBT8** has interacted with the most number of items i.e. **295** times. \n",
        "- But still, there is a possibility of 5689-295 = 5394 more interactions as we have 5689 unique items in our dataset. For those **5394** remaining items, we can build a recommendation system to predict which items are most likely to be watched by this user."
      ]
    },
    {
      "cell_type": "markdown",
      "metadata": {
        "id": "lHReghdivOOI"
      },
      "source": [
        "#### Q 1.7 What is the distribution of the user-item interactions in this dataset?(1 Mark)"
      ]
    },
    {
      "cell_type": "code",
      "metadata": {
        "colab": {
          "base_uri": "https://localhost:8080/"
        },
        "id": "0XArWJ7l2N9v",
        "outputId": "a9e20da3-2d10-411a-a0d5-c29c356f5d83"
      },
      "source": [
        "#Finding user-item interactions distribution\n",
        "count_interactions = rating.groupby('user_id').count()['item_id']\n",
        "count_interactions.sort_values()\n",
        "#The above code will help you find the number of products that have been rated by each user."
      ],
      "execution_count": 55,
      "outputs": [
        {
          "output_type": "execute_result",
          "data": {
            "text/plain": [
              "user_id\n",
              "A2CL818RN52NWN      3\n",
              "A2J4XMWKR8PPD0      3\n",
              "A3P69DTOXII004      4\n",
              "A12DLJESJKM1OQ      4\n",
              "A38QEATH3NODFM      6\n",
              "                 ... \n",
              "A25C2M3QF9G7OQ    202\n",
              "A36K2N527TXXJN    210\n",
              "A1ODOGXEYECQQ8    211\n",
              "A3OXHLG6DIBRW8    221\n",
              "ADLVFFE4VBT8      288\n",
              "Name: item_id, Length: 1320, dtype: int64"
            ]
          },
          "metadata": {},
          "execution_count": 55
        }
      ]
    },
    {
      "cell_type": "code",
      "metadata": {
        "colab": {
          "base_uri": "https://localhost:8080/",
          "height": 445
        },
        "id": "JoNCRm88vOOI",
        "outputId": "29a998c4-3118-4a44-fac1-a448a98a8f6c"
      },
      "source": [
        "#Plotting user-item interactions distribution\n",
        "\n",
        "plt.figure(figsize=(15,7))\n",
        "\n",
        "sns.histplot(count_interactions)\n",
        "\n",
        "plt.xlabel('Number of Interactions by Users/ No.of products rated')\n",
        "plt.ylabel('Count/ No.of users')\n",
        "\n",
        "plt.show()\n",
        "\n",
        "\n"
      ],
      "execution_count": 58,
      "outputs": [
        {
          "output_type": "display_data",
          "data": {
            "image/png": "[encoded data removed]",
            "text/plain": [
              "<Figure size 1080x504 with 1 Axes>"
            ]
          },
          "metadata": {
            "needs_background": "light"
          }
        }
      ]
    },
    {
      "cell_type": "markdown",
      "metadata": {
        "id": "vmj5nPiN2N9w"
      },
      "source": [
        "**Write your Answer here:**\n",
        "- The distribution is higher skewed to the right. Only a few users interacted with more than 50 items.\n",
        "\n",
        "**Explanation for interpreting the above plot**\n",
        "\n",
        "Now we are plotting histogram count interactions, this will give you the distribution count interactions.\n",
        "\n",
        "This means, on X-axis, we total interaction for each user. and on Y-axis the frequency of count interactions.\n",
        " For example: from the graph at x=50 the count is 100.\n",
        "This means we have 100 such users who have given ratings to 50 products.\n",
        "\n",
        "\n",
        "1. Does no. of interactions represent  the no, of ratings or the  no. of products? \n",
        "Ans: They represent the number of products.\n",
        "\n",
        "2. What does the count on the y axis represent?\n",
        "\n",
        "Ans: It represents the count of users who has interacted with a different number of products.  \n",
        "For example: from the graph, at x=50 the count is 100.\n",
        "\n",
        "3. Can you fill in the blanks below using the plot I had attached in my initial message?:\n",
        "Starting at origin towards right. \n",
        "\n",
        "\n",
        "20 users have given ratings to 10 products\n",
        "30 users have given ratings to 20 products.. and so on. \n",
        "\n",
        "185 users have given ratings to 25 products.\n",
        "\n",
        "Look at the right most end of tail; There is 1 user who has rated/interacted with 288 products"
      ]
    },
    {
      "cell_type": "markdown",
      "metadata": {
        "id": "iQF80jaHhFX2"
      },
      "source": [
        "#### As we have now explored the data, let's start building Recommendation systems\n",
        "\n",
        "### **Question 2: Create Rank-Based Recommendation System (3 Marks)**"
      ]
    },
    {
      "cell_type": "markdown",
      "metadata": {
        "id": "CqFN5jDJvOOJ"
      },
      "source": [
        "### Model 1: Rank Based Recommendation System"
      ]
    },
    {
      "cell_type": "markdown",
      "metadata": {
        "id": "W26vIRn1vOOJ"
      },
      "source": [
        "Rank-based recommendation systems provide recommendations based on the most popular items. This kind of recommendation system is useful when we have **cold start** problems. Cold start refers to the issue when we get a new user into the system and the machine is not able to recommend items to the new user, as the user did not have any historical interactions in the dataset. In those cases, we can use rank-based recommendation system to recommend items to the new user."
      ]
    },
    {
      "cell_type": "markdown",
      "metadata": {
        "id": "I3t4uyGlvOOK"
      },
      "source": [
        "To build the rank-based recommendation system, we take **average** of all the ratings provided to each item and then rank them based on their average rating."
      ]
    },
    {
      "cell_type": "code",
      "metadata": {
        "id": "xuMR3XFIvOOK"
      },
      "source": [
        "#Calculating average ratings\n",
        "average_rating = rating.groupby('item_id').mean()['rating']\n",
        "\n",
        "#Calculating the count of ratings\n",
        "count_rating = rating.groupby('item_id').count()['rating']\n",
        "\n",
        "#Making a dataframe with the count and average of ratings\n",
        "final_rating = pd.DataFrame({'avg_rating':average_rating, 'rating_count':count_rating})"
      ],
      "execution_count": 39,
      "outputs": []
    },
    {
      "cell_type": "code",
      "metadata": {
        "colab": {
          "base_uri": "https://localhost:8080/",
          "height": 238
        },
        "id": "J6NLX6FIvOOK",
        "outputId": "ef606178-8314-4ca3-bf2c-796633c3e1b0"
      },
      "source": [
        "final_rating.head()"
      ],
      "execution_count": 40,
      "outputs": [
        {
          "output_type": "execute_result",
          "data": {
            "text/html": [
              "<div>\n",
              "<style scoped>\n",
              "    .dataframe tbody tr th:only-of-type {\n",
              "        vertical-align: middle;\n",
              "    }\n",
              "\n",
              "    .dataframe tbody tr th {\n",
              "        vertical-align: top;\n",
              "    }\n",
              "\n",
              "    .dataframe thead th {\n",
              "        text-align: right;\n",
              "    }\n",
              "</style>\n",
              "<table border=\"1\" class=\"dataframe\">\n",
              "  <thead>\n",
              "    <tr style=\"text-align: right;\">\n",
              "      <th></th>\n",
              "      <th>avg_rating</th>\n",
              "      <th>rating_count</th>\n",
              "    </tr>\n",
              "    <tr>\n",
              "      <th>item_id</th>\n",
              "      <th></th>\n",
              "      <th></th>\n",
              "    </tr>\n",
              "  </thead>\n",
              "  <tbody>\n",
              "    <tr>\n",
              "      <th>1400501466</th>\n",
              "      <td>3.000000</td>\n",
              "      <td>5</td>\n",
              "    </tr>\n",
              "    <tr>\n",
              "      <th>1400532655</th>\n",
              "      <td>3.833333</td>\n",
              "      <td>6</td>\n",
              "    </tr>\n",
              "    <tr>\n",
              "      <th>9983891212</th>\n",
              "      <td>4.857143</td>\n",
              "      <td>7</td>\n",
              "    </tr>\n",
              "    <tr>\n",
              "      <th>B00000J1V5</th>\n",
              "      <td>4.500000</td>\n",
              "      <td>6</td>\n",
              "    </tr>\n",
              "    <tr>\n",
              "      <th>B00000JDF5</th>\n",
              "      <td>4.666667</td>\n",
              "      <td>6</td>\n",
              "    </tr>\n",
              "  </tbody>\n",
              "</table>\n",
              "</div>"
            ],
            "text/plain": [
              "            avg_rating  rating_count\n",
              "item_id                             \n",
              "1400501466    3.000000             5\n",
              "1400532655    3.833333             6\n",
              "9983891212    4.857143             7\n",
              "B00000J1V5    4.500000             6\n",
              "B00000JDF5    4.666667             6"
            ]
          },
          "metadata": {},
          "execution_count": 40
        }
      ]
    },
    {
      "cell_type": "markdown",
      "metadata": {
        "id": "Pv31nHm_2N9y"
      },
      "source": [
        "Now, let's create a function to find the **top n items** for a recommendation based on the average ratings of items. We can also add a **threshold for a minimum number of interactions** for a item to be considered for recommendation. "
      ]
    },
    {
      "cell_type": "code",
      "metadata": {
        "id": "Fy0SbxnevOOK"
      },
      "source": [
        "def top_n_items(data, n, min_interaction=30):\n",
        "    \n",
        "    #Finding items with minimum number of interactions\n",
        "    recommendations = data[data['rating_count'] > min_interaction]\n",
        "    \n",
        "    #Sorting values w.r.t average rating \n",
        "    recommendations = recommendations.sort_values(by='avg_rating', ascending=False)\n",
        "    \n",
        "    return recommendations.index[:n]"
      ],
      "execution_count": 41,
      "outputs": []
    },
    {
      "cell_type": "markdown",
      "metadata": {
        "id": "fi9vhL4Z2N9y"
      },
      "source": [
        "We can **use this function with different n's and minimum interactions** to get items to recommend"
      ]
    },
    {
      "cell_type": "markdown",
      "metadata": {
        "id": "hkz4LlTpvOOK"
      },
      "source": [
        "#### Recommending top 5 items with 50 minimum interactions based on popularity"
      ]
    },
    {
      "cell_type": "code",
      "metadata": {
        "colab": {
          "base_uri": "https://localhost:8080/"
        },
        "id": "u-JX_ES9vOOK",
        "outputId": "db2bfc09-dfe3-4398-9867-004357127bda"
      },
      "source": [
        "list(top_n_items(final_rating, 5, 50))"
      ],
      "execution_count": 42,
      "outputs": [
        {
          "output_type": "execute_result",
          "data": {
            "text/plain": [
              "['B001TH7GUU', 'B0019EHU8G', 'B003ES5ZUU', 'B000QUUFRW', 'B006W8U2MU']"
            ]
          },
          "metadata": {},
          "execution_count": 42
        }
      ]
    },
    {
      "cell_type": "markdown",
      "metadata": {
        "id": "r4vrsunx2N91"
      },
      "source": [
        "#### Now that we have seen how to apply the Rank-Based Recommendation System, let's apply Collaborative Filtering Based Recommendation System"
      ]
    },
    {
      "cell_type": "markdown",
      "metadata": {
        "id": "sJI5kiiGvOOK"
      },
      "source": [
        "### Model 2: Collaborative Filtering Based Recommendation System (7 Marks)"
      ]
    },
    {
      "cell_type": "markdown",
      "metadata": {
        "id": "QoSujZuuvOOK"
      },
      "source": [
        "In this type of recommendation system, `we do not need any information` about the users or items. We only need user item interaction data to build a collaborative recommendation system. For example - \n",
        "<ol>\n",
        "    <li><b>Ratings</b> provided by users. For example - ratings of books on goodread, movie ratings on imdb etc</li>\n",
        "    <li><b>Likes</b> of users on different facebook posts, likes on youtube videos</li>\n",
        "    <li><b>Use/buying</b> of a product by users. For example - buying different items on e-commerce sites</li>\n",
        "    <li><b>Reading</b> of articles by readers on various blogs</li>\n",
        "</ol>"
      ]
    },
    {
      "cell_type": "markdown",
      "metadata": {
        "id": "A_3GtPzuvOOK"
      },
      "source": [
        "#### Types of Collaborative Filtering"
      ]
    },
    {
      "cell_type": "markdown",
      "metadata": {
        "id": "igZX3WbqvOOK"
      },
      "source": [
        "- Similarity/Neighborhood based\n",
        "- Model based"
      ]
    },
    {
      "cell_type": "markdown",
      "metadata": {
        "id": "d4Uo_MYMnVNB"
      },
      "source": [
        "Below we are building similarity based recommendation system using `cosine` similarity and using KNN to find similar users which are nearest neighbor to the given user. "
      ]
    },
    {
      "cell_type": "markdown",
      "metadata": {
        "id": "-_T9DOvVnVNB"
      },
      "source": [
        "We will be using a new library - `surprise` to build the remaining models, let's first import the necessary classes and functions from this library"
      ]
    },
    {
      "cell_type": "markdown",
      "metadata": {
        "id": "8hxjJMTwnVNB"
      },
      "source": [
        "Below we are loading the `rating` dataset, which is a pandas dataframe, into a different format called `surprise.dataset.DatasetAutoFolds` which is required by this library. To do this we will be using the classes `Reader` and `Dataset`"
      ]
    },
    {
      "cell_type": "code",
      "metadata": {
        "colab": {
          "base_uri": "https://localhost:8080/",
          "height": 203
        },
        "id": "pyh0lKmb6Z1a",
        "outputId": "ff02dc5f-6224-4074-ba2b-604e43ff9ca8"
      },
      "source": [
        "from sklearn.preprocessing import LabelEncoder\n",
        "df=rating[['user_id','item_id']].apply(LabelEncoder().fit_transform)\n",
        "df['rating']=rating['rating']\n",
        "df.head()"
      ],
      "execution_count": null,
      "outputs": [
        {
          "output_type": "execute_result",
          "data": {
            "text/html": [
              "<div>\n",
              "<style scoped>\n",
              "    .dataframe tbody tr th:only-of-type {\n",
              "        vertical-align: middle;\n",
              "    }\n",
              "\n",
              "    .dataframe tbody tr th {\n",
              "        vertical-align: top;\n",
              "    }\n",
              "\n",
              "    .dataframe thead th {\n",
              "        text-align: right;\n",
              "    }\n",
              "</style>\n",
              "<table border=\"1\" class=\"dataframe\">\n",
              "  <thead>\n",
              "    <tr style=\"text-align: right;\">\n",
              "      <th></th>\n",
              "      <th>user_id</th>\n",
              "      <th>item_id</th>\n",
              "      <th>rating</th>\n",
              "    </tr>\n",
              "  </thead>\n",
              "  <tbody>\n",
              "    <tr>\n",
              "      <th>1310</th>\n",
              "      <td>1050</td>\n",
              "      <td>0</td>\n",
              "      <td>5.0</td>\n",
              "    </tr>\n",
              "    <tr>\n",
              "      <th>1322</th>\n",
              "      <td>125</td>\n",
              "      <td>0</td>\n",
              "      <td>1.0</td>\n",
              "    </tr>\n",
              "    <tr>\n",
              "      <th>1335</th>\n",
              "      <td>785</td>\n",
              "      <td>0</td>\n",
              "      <td>3.0</td>\n",
              "    </tr>\n",
              "    <tr>\n",
              "      <th>1451</th>\n",
              "      <td>1495</td>\n",
              "      <td>0</td>\n",
              "      <td>5.0</td>\n",
              "    </tr>\n",
              "    <tr>\n",
              "      <th>1456</th>\n",
              "      <td>164</td>\n",
              "      <td>0</td>\n",
              "      <td>1.0</td>\n",
              "    </tr>\n",
              "  </tbody>\n",
              "</table>\n",
              "</div>"
            ],
            "text/plain": [
              "      user_id  item_id  rating\n",
              "1310     1050        0     5.0\n",
              "1322      125        0     1.0\n",
              "1335      785        0     3.0\n",
              "1451     1495        0     5.0\n",
              "1456      164        0     1.0"
            ]
          },
          "metadata": {},
          "execution_count": 32
        }
      ]
    },
    {
      "cell_type": "markdown",
      "metadata": {
        "id": "ONMny7bl1vME"
      },
      "source": [
        "#### Making the dataset into surprise dataset and splitting it into train and test set"
      ]
    },
    {
      "cell_type": "code",
      "metadata": {
        "id": "rGfYDiOCpe4X"
      },
      "source": [
        "# instantiating Reader scale with expected rating scale\n",
        "reader = Reader(rating_scale=(0, 5))\n",
        "\n",
        "# loading the rating dataset\n",
        "data = Dataset.load_from_df(df[['user_id', 'item_id', 'rating']], reader)\n",
        "\n",
        "# splitting the data into train and test dataset\n",
        "trainset, testset = train_test_split(data, test_size=0.7, random_state=42)"
      ],
      "execution_count": null,
      "outputs": []
    },
    {
      "cell_type": "markdown",
      "metadata": {
        "id": "DmHTEt7TnVNC"
      },
      "source": [
        "### Now we are ready to build the first baseline similary based recommendation system using cosine similarity and KNN"
      ]
    },
    {
      "cell_type": "code",
      "metadata": {
        "colab": {
          "base_uri": "https://localhost:8080/"
        },
        "id": "vO3FL7iape8A",
        "outputId": "8c0589cf-4fcb-4846-fafb-6ff1d48fc9f9"
      },
      "source": [
        "sim_options = {'name': 'cosine',\n",
        "               'user_based': True}\n",
        "\n",
        "algo_knn_user = KNNBasic(sim_options=sim_options,verbose=False)\n",
        "\n",
        "# Train the algorithm on the trainset, and predict ratings for the testset\n",
        "algo_knn_user.fit(trainset)\n",
        "predictions = algo_knn_user.test(testset)\n",
        "\n",
        "# Then compute RMSE\n",
        "accuracy.rmse(predictions)"
      ],
      "execution_count": null,
      "outputs": [
        {
          "output_type": "stream",
          "name": "stdout",
          "text": [
            "RMSE: 1.0552\n"
          ]
        },
        {
          "output_type": "execute_result",
          "data": {
            "text/plain": [
              "1.0551559636074466"
            ]
          },
          "metadata": {},
          "execution_count": 34
        }
      ]
    },
    {
      "cell_type": "markdown",
      "metadata": {
        "id": "aa6OHXqE6Z1b"
      },
      "source": [
        "#### Q 3.1 What is the RMSE for baseline user based collaborative filtering recommendation system? (1 Mark)"
      ]
    },
    {
      "cell_type": "markdown",
      "metadata": {
        "id": "yE5kvdZenVNC"
      },
      "source": [
        "**Wite your Answer here:**\n",
        "\n",
        "As we can see from above, these baseline model has `RMSE=1.05` on test set, we will try to improve this number later by using `GridSearchCV` tuning different hyperparameters of this algorithm"
      ]
    },
    {
      "cell_type": "markdown",
      "metadata": {
        "id": "1gfBQGRh6Z1b"
      },
      "source": [
        "#### Q 3.2 What is the Predicted  rating for an user with userId=0 and for itemId= 3906 and itemId=100? (1 Mark)"
      ]
    },
    {
      "cell_type": "markdown",
      "metadata": {
        "id": "reFD0-nsnVNC"
      },
      "source": [
        "Let's us now predict rating for an user with `userId=0` and for `itemId=3906` as shown below"
      ]
    },
    {
      "cell_type": "code",
      "metadata": {
        "colab": {
          "base_uri": "https://localhost:8080/"
        },
        "id": "Sxd23bZ9pe_x",
        "outputId": "2e4d2608-b59d-400e-e0a8-7221a7e9f680"
      },
      "source": [
        "algo_knn_user.predict(0,3906, r_ui=4, verbose=True)"
      ],
      "execution_count": null,
      "outputs": [
        {
          "output_type": "stream",
          "name": "stdout",
          "text": [
            "user: 0          item: 3906       r_ui = 4.00   est = 4.29   {'was_impossible': True, 'reason': 'Not enough neighbors.'}\n"
          ]
        },
        {
          "output_type": "execute_result",
          "data": {
            "text/plain": [
              "Prediction(uid=0, iid=3906, r_ui=4, est=4.291366722826364, details={'was_impossible': True, 'reason': 'Not enough neighbors.'})"
            ]
          },
          "metadata": {},
          "execution_count": 35
        }
      ]
    },
    {
      "cell_type": "markdown",
      "metadata": {
        "id": "QuVbIR3SnVNE"
      },
      "source": [
        "**Write your Answer here:**\n",
        "\n",
        "As we can see - the actual rating for this user-item pair is 4 and predicted rating is 4.29 by this similarity based baseline model"
      ]
    },
    {
      "cell_type": "markdown",
      "metadata": {
        "id": "EXSgq8OEnVNE"
      },
      "source": [
        "Below we are predicting rating for the same `userId=0` but for a item which this user has not interacted before i.e. `itemId=100`, as shown below - "
      ]
    },
    {
      "cell_type": "code",
      "metadata": {
        "colab": {
          "base_uri": "https://localhost:8080/"
        },
        "id": "PbFcBj1PpfEV",
        "outputId": "d391ad2b-bf6f-4cd7-c03d-60baa421df47"
      },
      "source": [
        "algo_knn_user.predict(0,100, verbose=True)"
      ],
      "execution_count": null,
      "outputs": [
        {
          "output_type": "stream",
          "name": "stdout",
          "text": [
            "user: 0          item: 100        r_ui = None   est = 4.00   {'actual_k': 1, 'was_impossible': False}\n"
          ]
        },
        {
          "output_type": "execute_result",
          "data": {
            "text/plain": [
              "Prediction(uid=0, iid=100, r_ui=None, est=4.0, details={'actual_k': 1, 'was_impossible': False})"
            ]
          },
          "metadata": {},
          "execution_count": 36
        }
      ]
    },
    {
      "cell_type": "markdown",
      "metadata": {
        "id": "cm2xqtcQnVNE"
      },
      "source": [
        "**Write your Answer here:**\n",
        "\n",
        "As we can see the estimated rating for this user-item pair is 4.0 based on this similarity based baseline model"
      ]
    },
    {
      "cell_type": "markdown",
      "metadata": {
        "id": "ejjof6csnVNF"
      },
      "source": [
        "### Improving similarity based recommendation system by tuning its hyper-parameters"
      ]
    },
    {
      "cell_type": "markdown",
      "metadata": {
        "id": "x_kxe-_JnVNF"
      },
      "source": [
        "Below we will be tuning hyper-parmeters for the `KNNBasic` algorithms. Let's try to understand different hyperparameters of KNNBasic algorithm - "
      ]
    },
    {
      "cell_type": "markdown",
      "metadata": {
        "id": "p2j4VvfQnVNF"
      },
      "source": [
        "- **k** (int) – The (max) number of neighbors to take into account for aggregation (see this note). Default is 40.\n",
        "- **min_k** (int) – The minimum number of neighbors to take into account for aggregation. If there are not enough neighbors, the prediction is set to the global mean of all ratings. Default is 1.\n",
        "- **sim_options** (dict) – A dictionary of options for the similarity measure. And there are four similarity measures available in surprise - \n",
        "    - cosine\n",
        "    - msd (default)\n",
        "    - pearson\n",
        "    - pearson baseline\n",
        "    \n",
        "For more details please refer the official documentation https://surprise.readthedocs.io/en/stable/knn_inspired.html"
      ]
    },
    {
      "cell_type": "markdown",
      "metadata": {
        "id": "2VSq_9J36Z1c"
      },
      "source": [
        "#### Q 3.3 Perform hyperparameter tuning for the baseline user based collaborative filtering recommendation system and find the RMSE for tuned user based collaborative filtering recommendation system? (3 Marks)"
      ]
    },
    {
      "cell_type": "code",
      "metadata": {
        "colab": {
          "base_uri": "https://localhost:8080/"
        },
        "id": "KpGhU15gpfHg",
        "outputId": "621090cb-5d06-4f02-8878-0b2fe54f1a01"
      },
      "source": [
        "# setting up parameter grid to tune the hyperparameters\n",
        "param_grid = {'k': [20, 30, 40], 'min_k': [3, 6, 9],\n",
        "              'sim_options': {'name': ['msd', 'cosine'],\n",
        "                              'user_based': [True]}\n",
        "              }\n",
        "\n",
        "# performing 3-fold cross validation to tune the hyperparameters\n",
        "gs = GridSearchCV(KNNBasic, param_grid, measures=['rmse', 'mae'], cv=3, n_jobs=-1)\n",
        "\n",
        "# fitting the data\n",
        "gs.fit(data)\n",
        "\n",
        "# best RMSE score\n",
        "print(gs.best_score['rmse'])\n",
        "\n",
        "# combination of parameters that gave the best RMSE score\n",
        "print(gs.best_params['rmse'])"
      ],
      "execution_count": null,
      "outputs": [
        {
          "output_type": "stream",
          "name": "stdout",
          "text": [
            "0.9723541826305412\n",
            "{'k': 40, 'min_k': 6, 'sim_options': {'name': 'cosine', 'user_based': True}}\n"
          ]
        }
      ]
    },
    {
      "cell_type": "markdown",
      "metadata": {
        "id": "L2fHNvu7nVNF"
      },
      "source": [
        "Once the grid search is complete, we can get the optimal values for each of those hyperparameters as shown above"
      ]
    },
    {
      "cell_type": "markdown",
      "metadata": {
        "id": "h_K6yd6XnVNF"
      },
      "source": [
        "Below we are analysing evaluation metrics - RMSE and MAE at each and every split to analyze the impact of each value of hyperparameters"
      ]
    },
    {
      "cell_type": "code",
      "metadata": {
        "colab": {
          "base_uri": "https://localhost:8080/",
          "height": 475
        },
        "id": "TzJxk_Z4q1A8",
        "outputId": "ca0a582e-6d38-4b3b-d8e0-d72fadd964f8"
      },
      "source": [
        "results_df = pd.DataFrame.from_dict(gs.cv_results)\n",
        "results_df.head()"
      ],
      "execution_count": null,
      "outputs": [
        {
          "output_type": "execute_result",
          "data": {
            "text/html": [
              "<div>\n",
              "<style scoped>\n",
              "    .dataframe tbody tr th:only-of-type {\n",
              "        vertical-align: middle;\n",
              "    }\n",
              "\n",
              "    .dataframe tbody tr th {\n",
              "        vertical-align: top;\n",
              "    }\n",
              "\n",
              "    .dataframe thead th {\n",
              "        text-align: right;\n",
              "    }\n",
              "</style>\n",
              "<table border=\"1\" class=\"dataframe\">\n",
              "  <thead>\n",
              "    <tr style=\"text-align: right;\">\n",
              "      <th></th>\n",
              "      <th>split0_test_rmse</th>\n",
              "      <th>split1_test_rmse</th>\n",
              "      <th>split2_test_rmse</th>\n",
              "      <th>mean_test_rmse</th>\n",
              "      <th>std_test_rmse</th>\n",
              "      <th>rank_test_rmse</th>\n",
              "      <th>split0_test_mae</th>\n",
              "      <th>split1_test_mae</th>\n",
              "      <th>split2_test_mae</th>\n",
              "      <th>mean_test_mae</th>\n",
              "      <th>std_test_mae</th>\n",
              "      <th>rank_test_mae</th>\n",
              "      <th>mean_fit_time</th>\n",
              "      <th>std_fit_time</th>\n",
              "      <th>mean_test_time</th>\n",
              "      <th>std_test_time</th>\n",
              "      <th>params</th>\n",
              "      <th>param_k</th>\n",
              "      <th>param_min_k</th>\n",
              "      <th>param_sim_options</th>\n",
              "    </tr>\n",
              "  </thead>\n",
              "  <tbody>\n",
              "    <tr>\n",
              "      <th>0</th>\n",
              "      <td>0.982417</td>\n",
              "      <td>0.972726</td>\n",
              "      <td>0.977552</td>\n",
              "      <td>0.977565</td>\n",
              "      <td>0.003956</td>\n",
              "      <td>18</td>\n",
              "      <td>0.730425</td>\n",
              "      <td>0.726095</td>\n",
              "      <td>0.725203</td>\n",
              "      <td>0.727241</td>\n",
              "      <td>0.002281</td>\n",
              "      <td>1</td>\n",
              "      <td>0.236748</td>\n",
              "      <td>0.044000</td>\n",
              "      <td>1.075094</td>\n",
              "      <td>0.028656</td>\n",
              "      <td>{'k': 20, 'min_k': 3, 'sim_options': {'name': ...</td>\n",
              "      <td>20</td>\n",
              "      <td>3</td>\n",
              "      <td>{'name': 'msd', 'user_based': True}</td>\n",
              "    </tr>\n",
              "    <tr>\n",
              "      <th>1</th>\n",
              "      <td>0.978259</td>\n",
              "      <td>0.969317</td>\n",
              "      <td>0.975003</td>\n",
              "      <td>0.974193</td>\n",
              "      <td>0.003695</td>\n",
              "      <td>9</td>\n",
              "      <td>0.732544</td>\n",
              "      <td>0.728535</td>\n",
              "      <td>0.728510</td>\n",
              "      <td>0.729863</td>\n",
              "      <td>0.001896</td>\n",
              "      <td>6</td>\n",
              "      <td>0.713286</td>\n",
              "      <td>0.020031</td>\n",
              "      <td>1.077341</td>\n",
              "      <td>0.016033</td>\n",
              "      <td>{'k': 20, 'min_k': 3, 'sim_options': {'name': ...</td>\n",
              "      <td>20</td>\n",
              "      <td>3</td>\n",
              "      <td>{'name': 'cosine', 'user_based': True}</td>\n",
              "    </tr>\n",
              "    <tr>\n",
              "      <th>2</th>\n",
              "      <td>0.974609</td>\n",
              "      <td>0.970461</td>\n",
              "      <td>0.972617</td>\n",
              "      <td>0.972562</td>\n",
              "      <td>0.001694</td>\n",
              "      <td>6</td>\n",
              "      <td>0.746689</td>\n",
              "      <td>0.746031</td>\n",
              "      <td>0.746142</td>\n",
              "      <td>0.746288</td>\n",
              "      <td>0.000288</td>\n",
              "      <td>7</td>\n",
              "      <td>0.191463</td>\n",
              "      <td>0.017223</td>\n",
              "      <td>1.065903</td>\n",
              "      <td>0.013349</td>\n",
              "      <td>{'k': 20, 'min_k': 6, 'sim_options': {'name': ...</td>\n",
              "      <td>20</td>\n",
              "      <td>6</td>\n",
              "      <td>{'name': 'msd', 'user_based': True}</td>\n",
              "    </tr>\n",
              "    <tr>\n",
              "      <th>3</th>\n",
              "      <td>0.974801</td>\n",
              "      <td>0.970734</td>\n",
              "      <td>0.972117</td>\n",
              "      <td>0.972551</td>\n",
              "      <td>0.001689</td>\n",
              "      <td>5</td>\n",
              "      <td>0.749756</td>\n",
              "      <td>0.748904</td>\n",
              "      <td>0.748487</td>\n",
              "      <td>0.749049</td>\n",
              "      <td>0.000528</td>\n",
              "      <td>12</td>\n",
              "      <td>0.686416</td>\n",
              "      <td>0.018877</td>\n",
              "      <td>1.062130</td>\n",
              "      <td>0.017834</td>\n",
              "      <td>{'k': 20, 'min_k': 6, 'sim_options': {'name': ...</td>\n",
              "      <td>20</td>\n",
              "      <td>6</td>\n",
              "      <td>{'name': 'cosine', 'user_based': True}</td>\n",
              "    </tr>\n",
              "    <tr>\n",
              "      <th>4</th>\n",
              "      <td>0.976525</td>\n",
              "      <td>0.976525</td>\n",
              "      <td>0.977186</td>\n",
              "      <td>0.976745</td>\n",
              "      <td>0.000311</td>\n",
              "      <td>12</td>\n",
              "      <td>0.757863</td>\n",
              "      <td>0.760022</td>\n",
              "      <td>0.759564</td>\n",
              "      <td>0.759150</td>\n",
              "      <td>0.000929</td>\n",
              "      <td>13</td>\n",
              "      <td>0.174056</td>\n",
              "      <td>0.005641</td>\n",
              "      <td>1.078545</td>\n",
              "      <td>0.009622</td>\n",
              "      <td>{'k': 20, 'min_k': 9, 'sim_options': {'name': ...</td>\n",
              "      <td>20</td>\n",
              "      <td>9</td>\n",
              "      <td>{'name': 'msd', 'user_based': True}</td>\n",
              "    </tr>\n",
              "  </tbody>\n",
              "</table>\n",
              "</div>"
            ],
            "text/plain": [
              "   split0_test_rmse  ...                       param_sim_options\n",
              "0          0.982417  ...     {'name': 'msd', 'user_based': True}\n",
              "1          0.978259  ...  {'name': 'cosine', 'user_based': True}\n",
              "2          0.974609  ...     {'name': 'msd', 'user_based': True}\n",
              "3          0.974801  ...  {'name': 'cosine', 'user_based': True}\n",
              "4          0.976525  ...     {'name': 'msd', 'user_based': True}\n",
              "\n",
              "[5 rows x 20 columns]"
            ]
          },
          "metadata": {},
          "execution_count": 38
        }
      ]
    },
    {
      "cell_type": "markdown",
      "metadata": {
        "id": "NHWgxu_YnVNG"
      },
      "source": [
        "Now we will building final model by using tuned values of the hyperparameters which we received by using grid search cross validation"
      ]
    },
    {
      "cell_type": "code",
      "metadata": {
        "colab": {
          "base_uri": "https://localhost:8080/"
        },
        "id": "PujRJA8X_JEJ",
        "outputId": "ca67dfa0-7820-4fbe-bebe-6da159741102"
      },
      "source": [
        "# using the optimal similarity measure for user-user based collaborative filtering\n",
        "sim_options = {'name': 'cosine',\n",
        "               'user_based': True}\n",
        "\n",
        "# creating an instance of KNNBasic with optimal hyperparameter values\n",
        "similarity_algo_optimized = KNNBasic(sim_options=sim_options, k=40, min_k=6,Verbose=False)\n",
        "\n",
        "# training the algorithm on the trainset\n",
        "similarity_algo_optimized.fit(trainset)\n",
        "\n",
        "# predicting ratings for the testset\n",
        "predictions = similarity_algo_optimized.test(testset)\n",
        "\n",
        "# computing RMSE on testset\n",
        "accuracy.rmse(predictions)"
      ],
      "execution_count": null,
      "outputs": [
        {
          "output_type": "stream",
          "name": "stdout",
          "text": [
            "Computing the cosine similarity matrix...\n",
            "Done computing similarity matrix.\n",
            "RMSE: 0.9887\n"
          ]
        },
        {
          "output_type": "execute_result",
          "data": {
            "text/plain": [
              "0.988698949219415"
            ]
          },
          "metadata": {},
          "execution_count": 39
        }
      ]
    },
    {
      "cell_type": "markdown",
      "metadata": {
        "id": "YA37vQ6qnVNG"
      },
      "source": [
        "**Write your Answer here:**\n",
        "\n",
        "We can see from above that after tuning hyperparameters, RMSE for testset has reduced to 0.98 from 1.05. We can say that we have been able to improve the model after hyperparameter tuning"
      ]
    },
    {
      "cell_type": "markdown",
      "metadata": {
        "id": "NlB0pt5F6Z1d"
      },
      "source": [
        "#### Q 3.4  What is the Predicted  rating for an user with userId=0 and for itemId= 3906 and itemId=100 using tuned user based collaborative filtering? (1 Mark)"
      ]
    },
    {
      "cell_type": "markdown",
      "metadata": {
        "id": "YhcAXK0CnVNG"
      },
      "source": [
        "Let's us now predict rating for an user with `userId=0` and for `itemId=3906` with the optimized model as shown below"
      ]
    },
    {
      "cell_type": "code",
      "metadata": {
        "colab": {
          "base_uri": "https://localhost:8080/"
        },
        "id": "FgV63lHiq1TV",
        "outputId": "ff33547b-2fda-4443-af8b-4be374233082"
      },
      "source": [
        "similarity_algo_optimized.predict(0,3906, r_ui=4, verbose=True)"
      ],
      "execution_count": null,
      "outputs": [
        {
          "output_type": "stream",
          "name": "stdout",
          "text": [
            "user: 0          item: 3906       r_ui = 4.00   est = 4.29   {'was_impossible': True, 'reason': 'Not enough neighbors.'}\n"
          ]
        },
        {
          "output_type": "execute_result",
          "data": {
            "text/plain": [
              "Prediction(uid=0, iid=3906, r_ui=4, est=4.291366722826364, details={'was_impossible': True, 'reason': 'Not enough neighbors.'})"
            ]
          },
          "metadata": {},
          "execution_count": 40
        }
      ]
    },
    {
      "cell_type": "markdown",
      "metadata": {
        "id": "AMBeqeUtnVNG"
      },
      "source": [
        "If we compare the above predicted rating, we can see the baseline model predicted rating as `4.29` and the optimized model predicted the rating as `4.29`."
      ]
    },
    {
      "cell_type": "markdown",
      "metadata": {
        "id": "P1JLqz6mnVNH"
      },
      "source": [
        "Below we are predicting rating for the same `userId=0` but for a item which this user has not interacted before i.e. `itemId=100`, by using the optimized model as shown below - "
      ]
    },
    {
      "cell_type": "code",
      "metadata": {
        "colab": {
          "base_uri": "https://localhost:8080/"
        },
        "id": "HXO2Ztjhq1bN",
        "outputId": "83830895-4d93-4267-adeb-eb401628b0cc"
      },
      "source": [
        "similarity_algo_optimized.predict(0,100, verbose=True)"
      ],
      "execution_count": null,
      "outputs": [
        {
          "output_type": "stream",
          "name": "stdout",
          "text": [
            "user: 0          item: 100        r_ui = None   est = 4.29   {'was_impossible': True, 'reason': 'Not enough neighbors.'}\n"
          ]
        },
        {
          "output_type": "execute_result",
          "data": {
            "text/plain": [
              "Prediction(uid=0, iid=100, r_ui=None, est=4.291366722826364, details={'was_impossible': True, 'reason': 'Not enough neighbors.'})"
            ]
          },
          "metadata": {},
          "execution_count": 41
        }
      ]
    },
    {
      "cell_type": "markdown",
      "metadata": {
        "id": "PN_tYvepnVNH"
      },
      "source": [
        "If we compare the above predicted rating, we can see the baseline model predicted rating as `4` and the optimized model predicted the rating as `4.29`."
      ]
    },
    {
      "cell_type": "markdown",
      "metadata": {
        "id": "op_zwO_FnVNH"
      },
      "source": [
        "#### Identifying similar users to a given user (nearest neighbors)"
      ]
    },
    {
      "cell_type": "markdown",
      "metadata": {
        "id": "o2QsfqhanVNH"
      },
      "source": [
        "We can also find out the similar users to a given user or its nearest neighbors based on this KNNBasic algorithm. Below we are finding 5 most similar user to the `userId=0` based on the `msd` distance metric"
      ]
    },
    {
      "cell_type": "code",
      "metadata": {
        "colab": {
          "base_uri": "https://localhost:8080/"
        },
        "id": "evkmTb6P5HYO",
        "outputId": "9070ff88-7ffc-4d28-a344-f22dde8983be"
      },
      "source": [
        "similarity_algo_optimized.get_neighbors(0, k=5)"
      ],
      "execution_count": null,
      "outputs": [
        {
          "output_type": "execute_result",
          "data": {
            "text/plain": [
              "[7, 12, 14, 23, 47]"
            ]
          },
          "metadata": {},
          "execution_count": 42
        }
      ]
    },
    {
      "cell_type": "markdown",
      "metadata": {
        "id": "Z0NsrX_anVNH"
      },
      "source": [
        "#### Implementing the recommendation algorithm based on optimized KNNBasic model"
      ]
    },
    {
      "cell_type": "markdown",
      "metadata": {
        "id": "U3ESobDynVNI"
      },
      "source": [
        "Below we will be implementing a function where the input parameters are - \n",
        "\n",
        "- data: a rating dataset\n",
        "- user_id: an user id against which we want the recommendations\n",
        "- top_n: the number of items we want to recommend\n",
        "- algo: the algorithm we want to use to predict the ratings"
      ]
    },
    {
      "cell_type": "code",
      "metadata": {
        "id": "vW9V1Tk65HlY"
      },
      "source": [
        "def get_recommendations(data, user_id, top_n, algo):\n",
        "    \n",
        "    # creating an empty list to store the recommended item ids\n",
        "    recommendations = []\n",
        "    \n",
        "    # creating an user item interactions matrix \n",
        "    user_item_interactions_matrix = data.pivot(index='user_id', columns='item_id', values='rating')\n",
        "    \n",
        "    # extracting those item ids which the user_id has not interacted yet\n",
        "    non_interacted_items = user_item_interactions_matrix.loc[user_id][user_item_interactions_matrix.loc[user_id].isnull()].index.tolist()\n",
        "    \n",
        "    # looping through each of the item id which user_id has not interacted yet\n",
        "    for item_id in non_interacted_items:\n",
        "        \n",
        "        # predicting the ratings for those non interacted item ids by this user\n",
        "        est = algo.predict(user_id, item_id).est\n",
        "        \n",
        "        # appending the predicted ratings\n",
        "        recommendations.append((item_id, est))\n",
        "\n",
        "    # sorting the predicted ratings in descending order\n",
        "    recommendations.sort(key=lambda x: x[1], reverse=True)\n",
        "\n",
        "    return recommendations[:top_n] # returing top n highest predicted rating items for this user"
      ],
      "execution_count": null,
      "outputs": []
    },
    {
      "cell_type": "markdown",
      "metadata": {
        "id": "Oj_S7kh4nVNI"
      },
      "source": [
        "#### Predicted top 5 items for userId=4 with similarity based recommendation system"
      ]
    },
    {
      "cell_type": "code",
      "metadata": {
        "id": "qWbR85mI5Hrk"
      },
      "source": [
        "recommendations = get_recommendations(df, 4, 5, similarity_algo_optimized)"
      ],
      "execution_count": null,
      "outputs": []
    },
    {
      "cell_type": "markdown",
      "metadata": {
        "id": "T-UriRJa6Z1g"
      },
      "source": [
        "#### Q 3.5 Predict the top 5 items for userId=4 with similarity based recommendation system (1 Mark)"
      ]
    },
    {
      "cell_type": "code",
      "metadata": {
        "colab": {
          "base_uri": "https://localhost:8080/"
        },
        "id": "b5WfIX0Z6_q2",
        "outputId": "2f69ca44-c109-4e73-a847-05b738267743"
      },
      "source": [
        "recommendations"
      ],
      "execution_count": null,
      "outputs": [
        {
          "output_type": "execute_result",
          "data": {
            "text/plain": [
              "[(850, 5),\n",
              " (2857, 4.875),\n",
              " (2277, 4.856530910239044),\n",
              " (2722, 4.833333333333333),\n",
              " (4189, 4.833053684165744)]"
            ]
          },
          "metadata": {},
          "execution_count": 45
        }
      ]
    },
    {
      "cell_type": "markdown",
      "metadata": {
        "id": "FBXXS17c6Z1g"
      },
      "source": [
        "## Model#3 Item based Collaborative Filtering Recommendation System (7 Marks)"
      ]
    },
    {
      "cell_type": "code",
      "metadata": {
        "colab": {
          "base_uri": "https://localhost:8080/"
        },
        "id": "_4zF583_6Z1g",
        "outputId": "1e84e604-75c2-4bce-cf1a-3b7be7841ce0"
      },
      "source": [
        "#definfing similarity measure\n",
        "sim_options = {'name': 'cosine',\n",
        "               'user_based': False}\n",
        "\n",
        "#defining Nearest neighbour algorithm\n",
        "algo_knn_item = KNNBasic(sim_options=sim_options,verbose=False)\n",
        "\n",
        "# Train the algorithm on the trainset or fitting the model on train dataset \n",
        "algo_knn_item.fit(trainset)\n",
        "\n",
        "#predict ratings for the testset\n",
        "predictions = algo_knn_item.test(testset)\n",
        "\n",
        "# Then compute RMSE\n",
        "accuracy.rmse(predictions)"
      ],
      "execution_count": null,
      "outputs": [
        {
          "output_type": "stream",
          "name": "stdout",
          "text": [
            "RMSE: 1.0697\n"
          ]
        },
        {
          "output_type": "execute_result",
          "data": {
            "text/plain": [
              "1.0697030922594737"
            ]
          },
          "metadata": {},
          "execution_count": 47
        }
      ]
    },
    {
      "cell_type": "markdown",
      "metadata": {
        "id": "XuKBx6p26Z1g"
      },
      "source": [
        "#### Q 4.1 What is the RMSE for baseline item based collaborative filtering recommendation system ?"
      ]
    },
    {
      "cell_type": "markdown",
      "metadata": {
        "id": "0E9OBxL46Z1g"
      },
      "source": [
        "**Write your Answer here:**\n",
        "- As we can see from above, these baseline model has `RMSE=1.06` on test set, we will try to improve this number later by using `GridSearchCV` tuning different hyperparameters of this algorithm\n",
        "\n",
        "#### Let's us now predict rating for an user with `userId=0` and for `itemId=3906` and `itemId=100`"
      ]
    },
    {
      "cell_type": "code",
      "metadata": {
        "colab": {
          "base_uri": "https://localhost:8080/"
        },
        "id": "SmtSba906Z1h",
        "outputId": "96253555-69d7-45e3-ecec-a2fa2bc10769"
      },
      "source": [
        "algo_knn_item.predict(0, 3096, r_ui=4, verbose=True)"
      ],
      "execution_count": null,
      "outputs": [
        {
          "output_type": "stream",
          "name": "stdout",
          "text": [
            "user: 0          item: 3096       r_ui = 4.00   est = 4.29   {'was_impossible': True, 'reason': 'Not enough neighbors.'}\n"
          ]
        },
        {
          "output_type": "execute_result",
          "data": {
            "text/plain": [
              "Prediction(uid=0, iid=3096, r_ui=4, est=4.291366722826364, details={'was_impossible': True, 'reason': 'Not enough neighbors.'})"
            ]
          },
          "metadata": {},
          "execution_count": 48
        }
      ]
    },
    {
      "cell_type": "markdown",
      "metadata": {
        "id": "sLYUottz6Z1h"
      },
      "source": [
        "As we can see - the actual rating for this user-item pair is 4 and predicted rating is 4.29 by this similarity based baseline model"
      ]
    },
    {
      "cell_type": "markdown",
      "metadata": {
        "id": "_2cK6nrF6Z1h"
      },
      "source": [
        "#### Let's predict  the rating for the same `userId=0` but for a item which this user has not interacted before i.e. `itemId=22607`"
      ]
    },
    {
      "cell_type": "code",
      "metadata": {
        "colab": {
          "base_uri": "https://localhost:8080/"
        },
        "id": "1GMQ0JtI6Z1h",
        "outputId": "af1483c5-ce70-467a-9807-d30515459916"
      },
      "source": [
        "algo_knn_item.predict(0, 100, verbose=True)"
      ],
      "execution_count": null,
      "outputs": [
        {
          "output_type": "stream",
          "name": "stdout",
          "text": [
            "user: 0          item: 100        r_ui = None   est = 5.00   {'actual_k': 1, 'was_impossible': False}\n"
          ]
        },
        {
          "output_type": "execute_result",
          "data": {
            "text/plain": [
              "Prediction(uid=0, iid=100, r_ui=None, est=5, details={'actual_k': 1, 'was_impossible': False})"
            ]
          },
          "metadata": {},
          "execution_count": 49
        }
      ]
    },
    {
      "cell_type": "markdown",
      "metadata": {
        "id": "HC-69jMN6Z1h"
      },
      "source": [
        "As we can see the estimated rating for this user-item pair is 5.00 based on this similarity based baseline model"
      ]
    },
    {
      "cell_type": "markdown",
      "metadata": {
        "id": "3EfFKfAk6Z1h"
      },
      "source": [
        "#### Q 4.3 Perform hyperparameter tuning for the baseline item based collaborative filtering recommendation system and find the RMSE for tuned item based collaborative filtering recommendation system?  (3 Marks)"
      ]
    },
    {
      "cell_type": "code",
      "metadata": {
        "colab": {
          "base_uri": "https://localhost:8080/"
        },
        "id": "Gu1tFaCU6Z1j",
        "outputId": "9161089b-922e-4dc2-e7d0-5406c9a203dd"
      },
      "source": [
        "# setting up parameter grid to tune the hyperparameters\n",
        "param_grid = {'k': [20, 30], 'min_k': [3],\n",
        "              'sim_options': {'name': ['msd', 'cosine'],\n",
        "                              'user_based': [False]}\n",
        "              }\n",
        "\n",
        "# performing 3-fold cross validation to tune the hyperparameters\n",
        "grid_obj = GridSearchCV(KNNBasic, param_grid, measures=['rmse', 'mae'], cv=3)\n",
        "\n",
        "# fitting the data\n",
        "grid_obj.fit(data)\n",
        "\n",
        "# best RMSE score\n",
        "print(grid_obj.best_score['rmse'])\n",
        "\n",
        "# combination of parameters that gave the best RMSE score\n",
        "print(grid_obj.best_params['rmse'])"
      ],
      "execution_count": null,
      "outputs": [
        {
          "output_type": "stream",
          "name": "stdout",
          "text": [
            "Computing the msd similarity matrix...\n",
            "Done computing similarity matrix.\n",
            "Computing the msd similarity matrix...\n",
            "Done computing similarity matrix.\n",
            "Computing the msd similarity matrix...\n",
            "Done computing similarity matrix.\n",
            "Computing the cosine similarity matrix...\n",
            "Done computing similarity matrix.\n",
            "Computing the cosine similarity matrix...\n",
            "Done computing similarity matrix.\n",
            "Computing the cosine similarity matrix...\n",
            "Done computing similarity matrix.\n",
            "Computing the msd similarity matrix...\n",
            "Done computing similarity matrix.\n",
            "Computing the msd similarity matrix...\n",
            "Done computing similarity matrix.\n",
            "Computing the msd similarity matrix...\n",
            "Done computing similarity matrix.\n",
            "Computing the cosine similarity matrix...\n",
            "Done computing similarity matrix.\n",
            "Computing the cosine similarity matrix...\n",
            "Done computing similarity matrix.\n",
            "Computing the cosine similarity matrix...\n",
            "Done computing similarity matrix.\n",
            "0.9863951182887263\n",
            "{'k': 30, 'min_k': 3, 'sim_options': {'name': 'cosine', 'user_based': False}}\n"
          ]
        }
      ]
    },
    {
      "cell_type": "markdown",
      "metadata": {
        "id": "VJZsNiSB6Z1j"
      },
      "source": [
        "Once the grid search is complete, we can get the optimal values for each of those hyperparameters as shown above:"
      ]
    },
    {
      "cell_type": "markdown",
      "metadata": {
        "id": "AHXRbrsz6Z1j"
      },
      "source": [
        "Below we are analysing evaluation metrics - RMSE and MAE at each and every split to analyze the impact of each value of hyperparameters"
      ]
    },
    {
      "cell_type": "code",
      "metadata": {
        "id": "TjS_TXyS6Z1j",
        "outputId": "1e0d4c45-2376-4be1-de9f-ecae3f920ca7"
      },
      "source": [
        "results_df = pd.DataFrame.from_dict(grid_obj.cv_results)\n",
        "results_df.head()"
      ],
      "execution_count": null,
      "outputs": [
        {
          "data": {
            "text/html": [
              "<div>\n",
              "<style scoped>\n",
              "    .dataframe tbody tr th:only-of-type {\n",
              "        vertical-align: middle;\n",
              "    }\n",
              "\n",
              "    .dataframe tbody tr th {\n",
              "        vertical-align: top;\n",
              "    }\n",
              "\n",
              "    .dataframe thead th {\n",
              "        text-align: right;\n",
              "    }\n",
              "</style>\n",
              "<table border=\"1\" class=\"dataframe\">\n",
              "  <thead>\n",
              "    <tr style=\"text-align: right;\">\n",
              "      <th></th>\n",
              "      <th>split0_test_rmse</th>\n",
              "      <th>split1_test_rmse</th>\n",
              "      <th>split2_test_rmse</th>\n",
              "      <th>mean_test_rmse</th>\n",
              "      <th>std_test_rmse</th>\n",
              "      <th>rank_test_rmse</th>\n",
              "      <th>split0_test_mae</th>\n",
              "      <th>split1_test_mae</th>\n",
              "      <th>split2_test_mae</th>\n",
              "      <th>mean_test_mae</th>\n",
              "      <th>std_test_mae</th>\n",
              "      <th>rank_test_mae</th>\n",
              "      <th>mean_fit_time</th>\n",
              "      <th>std_fit_time</th>\n",
              "      <th>mean_test_time</th>\n",
              "      <th>std_test_time</th>\n",
              "      <th>params</th>\n",
              "      <th>param_k</th>\n",
              "      <th>param_min_k</th>\n",
              "      <th>param_sim_options</th>\n",
              "    </tr>\n",
              "  </thead>\n",
              "  <tbody>\n",
              "    <tr>\n",
              "      <th>0</th>\n",
              "      <td>0.982432</td>\n",
              "      <td>0.992999</td>\n",
              "      <td>0.989281</td>\n",
              "      <td>0.988237</td>\n",
              "      <td>0.004377</td>\n",
              "      <td>2</td>\n",
              "      <td>0.723281</td>\n",
              "      <td>0.730826</td>\n",
              "      <td>0.728454</td>\n",
              "      <td>0.727520</td>\n",
              "      <td>0.003150</td>\n",
              "      <td>1</td>\n",
              "      <td>0.593404</td>\n",
              "      <td>0.018733</td>\n",
              "      <td>0.936625</td>\n",
              "      <td>0.040438</td>\n",
              "      <td>{'k': 20, 'min_k': 3, 'sim_options': {'name': ...</td>\n",
              "      <td>20</td>\n",
              "      <td>3</td>\n",
              "      <td>{'name': 'msd', 'user_based': False}</td>\n",
              "    </tr>\n",
              "    <tr>\n",
              "      <th>1</th>\n",
              "      <td>0.983264</td>\n",
              "      <td>0.991568</td>\n",
              "      <td>0.989932</td>\n",
              "      <td>0.988254</td>\n",
              "      <td>0.003592</td>\n",
              "      <td>3</td>\n",
              "      <td>0.730409</td>\n",
              "      <td>0.735413</td>\n",
              "      <td>0.735786</td>\n",
              "      <td>0.733870</td>\n",
              "      <td>0.002452</td>\n",
              "      <td>4</td>\n",
              "      <td>1.849326</td>\n",
              "      <td>0.024718</td>\n",
              "      <td>1.207759</td>\n",
              "      <td>0.115120</td>\n",
              "      <td>{'k': 20, 'min_k': 3, 'sim_options': {'name': ...</td>\n",
              "      <td>20</td>\n",
              "      <td>3</td>\n",
              "      <td>{'name': 'cosine', 'user_based': False}</td>\n",
              "    </tr>\n",
              "    <tr>\n",
              "      <th>2</th>\n",
              "      <td>0.982561</td>\n",
              "      <td>0.993014</td>\n",
              "      <td>0.989312</td>\n",
              "      <td>0.988295</td>\n",
              "      <td>0.004327</td>\n",
              "      <td>4</td>\n",
              "      <td>0.723724</td>\n",
              "      <td>0.731262</td>\n",
              "      <td>0.729045</td>\n",
              "      <td>0.728011</td>\n",
              "      <td>0.003163</td>\n",
              "      <td>2</td>\n",
              "      <td>0.682727</td>\n",
              "      <td>0.036236</td>\n",
              "      <td>1.082967</td>\n",
              "      <td>0.068531</td>\n",
              "      <td>{'k': 30, 'min_k': 3, 'sim_options': {'name': ...</td>\n",
              "      <td>30</td>\n",
              "      <td>3</td>\n",
              "      <td>{'name': 'msd', 'user_based': False}</td>\n",
              "    </tr>\n",
              "    <tr>\n",
              "      <th>3</th>\n",
              "      <td>0.982942</td>\n",
              "      <td>0.991199</td>\n",
              "      <td>0.989346</td>\n",
              "      <td>0.987829</td>\n",
              "      <td>0.003537</td>\n",
              "      <td>1</td>\n",
              "      <td>0.730090</td>\n",
              "      <td>0.735149</td>\n",
              "      <td>0.735386</td>\n",
              "      <td>0.733542</td>\n",
              "      <td>0.002443</td>\n",
              "      <td>3</td>\n",
              "      <td>1.609010</td>\n",
              "      <td>0.027300</td>\n",
              "      <td>1.058436</td>\n",
              "      <td>0.057350</td>\n",
              "      <td>{'k': 30, 'min_k': 3, 'sim_options': {'name': ...</td>\n",
              "      <td>30</td>\n",
              "      <td>3</td>\n",
              "      <td>{'name': 'cosine', 'user_based': False}</td>\n",
              "    </tr>\n",
              "  </tbody>\n",
              "</table>\n",
              "</div>"
            ],
            "text/plain": [
              "   split0_test_rmse  split1_test_rmse  split2_test_rmse  mean_test_rmse  \\\n",
              "0          0.982432          0.992999          0.989281        0.988237   \n",
              "1          0.983264          0.991568          0.989932        0.988254   \n",
              "2          0.982561          0.993014          0.989312        0.988295   \n",
              "3          0.982942          0.991199          0.989346        0.987829   \n",
              "\n",
              "   std_test_rmse  rank_test_rmse  split0_test_mae  split1_test_mae  \\\n",
              "0       0.004377               2         0.723281         0.730826   \n",
              "1       0.003592               3         0.730409         0.735413   \n",
              "2       0.004327               4         0.723724         0.731262   \n",
              "3       0.003537               1         0.730090         0.735149   \n",
              "\n",
              "   split2_test_mae  mean_test_mae  std_test_mae  rank_test_mae  mean_fit_time  \\\n",
              "0         0.728454       0.727520      0.003150              1       0.593404   \n",
              "1         0.735786       0.733870      0.002452              4       1.849326   \n",
              "2         0.729045       0.728011      0.003163              2       0.682727   \n",
              "3         0.735386       0.733542      0.002443              3       1.609010   \n",
              "\n",
              "   std_fit_time  mean_test_time  std_test_time  \\\n",
              "0      0.018733        0.936625       0.040438   \n",
              "1      0.024718        1.207759       0.115120   \n",
              "2      0.036236        1.082967       0.068531   \n",
              "3      0.027300        1.058436       0.057350   \n",
              "\n",
              "                                              params  param_k  param_min_k  \\\n",
              "0  {'k': 20, 'min_k': 3, 'sim_options': {'name': ...       20            3   \n",
              "1  {'k': 20, 'min_k': 3, 'sim_options': {'name': ...       20            3   \n",
              "2  {'k': 30, 'min_k': 3, 'sim_options': {'name': ...       30            3   \n",
              "3  {'k': 30, 'min_k': 3, 'sim_options': {'name': ...       30            3   \n",
              "\n",
              "                         param_sim_options  \n",
              "0     {'name': 'msd', 'user_based': False}  \n",
              "1  {'name': 'cosine', 'user_based': False}  \n",
              "2     {'name': 'msd', 'user_based': False}  \n",
              "3  {'name': 'cosine', 'user_based': False}  "
            ]
          },
          "execution_count": 48,
          "metadata": {},
          "output_type": "execute_result"
        }
      ]
    },
    {
      "cell_type": "code",
      "metadata": {
        "id": "PUxmBpSj6Z1j",
        "outputId": "9ce65c25-1547-4808-cc6f-c171022d9d63"
      },
      "source": [
        "\n",
        "# creating an instance of KNNBasic with optimal hyperparameter values\n",
        "similarity_algo_optimized_item = KNNBasic(sim_options={'name': 'cosine', 'user_based': False}, k=30, min_k=3,verbose=False)\n",
        "\n",
        "# training the algorithm on the trainset\n",
        "similarity_algo_optimized_item.fit(trainset)\n",
        "\n",
        "# predicting ratings for the testset\n",
        "predictions = similarity_algo_optimized_item.test(testset)\n",
        "\n",
        "# computing RMSE on testset\n",
        "accuracy.rmse(predictions)"
      ],
      "execution_count": null,
      "outputs": [
        {
          "name": "stdout",
          "output_type": "stream",
          "text": [
            "RMSE: 0.9934\n"
          ]
        },
        {
          "data": {
            "text/plain": [
              "0.9933538000595813"
            ]
          },
          "execution_count": 49,
          "metadata": {},
          "output_type": "execute_result"
        }
      ]
    },
    {
      "cell_type": "markdown",
      "metadata": {
        "id": "XLrYQTcz6Z1k"
      },
      "source": [
        "**Write your Answer here:**\n",
        "- We can see from above that after tuning hyperparameters, RMSE for testset has reduced to 0.953 from 1.003. We can say that we have been able to improve the model after hyperparameter tuning."
      ]
    },
    {
      "cell_type": "markdown",
      "metadata": {
        "id": "DnlsOipl6Z1k"
      },
      "source": [
        "#### Q 4.4 What is the Predicted rating for an item with userId=0 and for itemId= 3906 and itemId=100 using tuned item based collaborative filtering? (1 Mark)"
      ]
    },
    {
      "cell_type": "markdown",
      "metadata": {
        "id": "vEXwA-TT6Z1k"
      },
      "source": [
        "#### Let's us now predict rating for an user with `userId=0` and for `itemId=3906` with the optimized model as shown below"
      ]
    },
    {
      "cell_type": "code",
      "metadata": {
        "id": "3ykMV5y26Z1k",
        "outputId": "df9ae83e-910a-43f1-ccc5-e30623f22aab"
      },
      "source": [
        "similarity_algo_optimized_item.predict(0, 3906, r_ui=4, verbose=True)"
      ],
      "execution_count": null,
      "outputs": [
        {
          "name": "stdout",
          "output_type": "stream",
          "text": [
            "user: 0          item: 3906       r_ui = 4.00   est = 4.29   {'was_impossible': True, 'reason': 'Not enough neighbors.'}\n"
          ]
        },
        {
          "data": {
            "text/plain": [
              "Prediction(uid=0, iid=3906, r_ui=4, est=4.291366722826364, details={'was_impossible': True, 'reason': 'Not enough neighbors.'})"
            ]
          },
          "execution_count": 50,
          "metadata": {},
          "output_type": "execute_result"
        }
      ]
    },
    {
      "cell_type": "markdown",
      "metadata": {
        "id": "bPGpA30S6Z1k"
      },
      "source": [
        "**Write your Answer here:**\n",
        "- If we compare the above predicted rating, we can see the baseline model predicted rating as `4.29` and the optimized model predicted the rating as `4.29`. whereas the actual rating is `4.w9`, i.e. predicted rating from the optimized model is closer to the actual rating."
      ]
    },
    {
      "cell_type": "markdown",
      "metadata": {
        "id": "uzjpEdMN6Z1k"
      },
      "source": [
        "#### Let's predict the rating for the same `userId=0` but for a item which this user has not interacted before i.e. `itemId=100`, by using the optimized model:"
      ]
    },
    {
      "cell_type": "code",
      "metadata": {
        "id": "73PUY4Og6Z1k",
        "outputId": "caf8d660-9b0a-47ad-9e39-c10ced2596c6"
      },
      "source": [
        "similarity_algo_optimized_item.predict(0,100, verbose=True)"
      ],
      "execution_count": null,
      "outputs": [
        {
          "name": "stdout",
          "output_type": "stream",
          "text": [
            "user: 0          item: 100        r_ui = None   est = 4.29   {'was_impossible': True, 'reason': 'Not enough neighbors.'}\n"
          ]
        },
        {
          "data": {
            "text/plain": [
              "Prediction(uid=0, iid=100, r_ui=None, est=4.291366722826364, details={'was_impossible': True, 'reason': 'Not enough neighbors.'})"
            ]
          },
          "execution_count": 51,
          "metadata": {},
          "output_type": "execute_result"
        }
      ]
    },
    {
      "cell_type": "markdown",
      "metadata": {
        "id": "o73veUsw6Z1k"
      },
      "source": [
        "**Write your Answer here:**\n",
        "- If we compare the above predicted rating, we can see the baseline model predicted rating as `5` and the optimized model predicted the rating as `4.29`."
      ]
    },
    {
      "cell_type": "markdown",
      "metadata": {
        "id": "v8lUjCZA6Z1k"
      },
      "source": [
        "#### Identifying similar users to a given user (nearest neighbors)\n",
        "We can also find out the similar users to a given user or its nearest neighbors based on this KNNBasic algorithm. Below we are finding 5 most similar user to the `userId=4` based on the `msd` distance metric"
      ]
    },
    {
      "cell_type": "code",
      "metadata": {
        "id": "Haj3yoKO6Z1k",
        "outputId": "27505576-e38d-4489-8107-4c3d441c91d5"
      },
      "source": [
        "similarity_algo_optimized_item.get_neighbors(4, k=5)"
      ],
      "execution_count": null,
      "outputs": [
        {
          "data": {
            "text/plain": [
              "[55, 132, 213, 393, 473]"
            ]
          },
          "execution_count": 52,
          "metadata": {},
          "output_type": "execute_result"
        }
      ]
    },
    {
      "cell_type": "markdown",
      "metadata": {
        "id": "txuyYKAN6Z1k"
      },
      "source": [
        "#### Predicted top 5 items for userId=4 with similarity based recommendation system"
      ]
    },
    {
      "cell_type": "code",
      "metadata": {
        "id": "wu5p60aM6Z1k"
      },
      "source": [
        "recommendations = get_recommendations(df, 4, 5, similarity_algo_optimized_item)"
      ],
      "execution_count": null,
      "outputs": []
    },
    {
      "cell_type": "markdown",
      "metadata": {
        "id": "WOmy53wq6Z1l"
      },
      "source": [
        "#### Q 4.5 Predict the top 5 items for userId=4 with similarity based recommendation system ? (1 Mark) "
      ]
    },
    {
      "cell_type": "code",
      "metadata": {
        "id": "2UCb7qE96Z1l",
        "outputId": "c78440cc-7a80-4e98-c102-ef09d347167a"
      },
      "source": [
        "recommendations"
      ],
      "execution_count": null,
      "outputs": [
        {
          "data": {
            "text/plain": [
              "[(451, 5), (529, 5), (976, 5), (1674, 5), (2869, 5)]"
            ]
          },
          "execution_count": 54,
          "metadata": {},
          "output_type": "execute_result"
        }
      ]
    },
    {
      "cell_type": "markdown",
      "metadata": {
        "id": "rKgJpSA9vOOL"
      },
      "source": [
        "### Model 4 Based Collaborative Filtering - Matrix Factorization using SVD (7 Marks)"
      ]
    },
    {
      "cell_type": "markdown",
      "metadata": {
        "id": "YF6ZGyqhCAob"
      },
      "source": [
        "Model-based Collaborative Filtering is a **personalized recommendation system**, the recommendations are based on the past behavior of the user and it is not dependent on any additional information. We use **latent features** to find recommendations for each user."
      ]
    },
    {
      "cell_type": "markdown",
      "metadata": {
        "id": "uxGWVpOMvOOL"
      },
      "source": [
        "**Latent Features:** The features that are not present in the empirical data but can be inferred from the data. For example:"
      ]
    },
    {
      "cell_type": "markdown",
      "metadata": {
        "id": "n4Otha8ovOOL"
      },
      "source": [
        "#### Singular Value Decomposition (SVD)"
      ]
    },
    {
      "cell_type": "markdown",
      "metadata": {
        "id": "3sGl3QkLvOOL"
      },
      "source": [
        "SVD is used to compute the latent features from the user-item matrix that we already learned earlier. But SVD does not work when we missing values in the user-item matrix."
      ]
    },
    {
      "cell_type": "markdown",
      "metadata": {
        "id": "uOtkUXmAnVNL"
      },
      "source": [
        "#### Building a baseline matrix factorization recommendation system"
      ]
    },
    {
      "cell_type": "code",
      "metadata": {
        "colab": {
          "base_uri": "https://localhost:8080/"
        },
        "id": "07-2PT5Ssjqm",
        "outputId": "8fe3157b-fdb3-4a1c-ba53-65f21a5925a9"
      },
      "source": [
        "# using SVD matrix factorization\n",
        "algo_svd = SVD()\n",
        "\n",
        "# training the algorithm on the trainset\n",
        "algo_svd.fit(trainset)\n",
        "\n",
        "# predicting ratings for the testset\n",
        "predictions = algo_svd.test(testset)\n",
        "\n",
        "# computing RMSE on the testset\n",
        "accuracy.rmse(predictions)"
      ],
      "execution_count": null,
      "outputs": [
        {
          "name": "stdout",
          "output_type": "stream",
          "text": [
            "RMSE: 0.9302\n"
          ]
        },
        {
          "data": {
            "text/plain": [
              "0.9302194025449003"
            ]
          },
          "execution_count": 55,
          "metadata": {},
          "output_type": "execute_result"
        }
      ]
    },
    {
      "cell_type": "markdown",
      "metadata": {
        "id": "GG_1tO3U6Z1o"
      },
      "source": [
        "#### Q 5.1 What is the RMSE for baseline SVD based collaborative filtering recommendation system? (1 Mark)"
      ]
    },
    {
      "cell_type": "markdown",
      "metadata": {
        "id": "BQ6fTuCDnVNL"
      },
      "source": [
        "**Write your Answer here:**\n",
        "\n",
        "We can that the baseline RMSE for matrix factorization model on testset (which is `0.93`) is lower as compared to the RMSE for baseline similarity based recommendation system (which is `1.06`) and it is even lesser than the RMSE for optimized similarity based recommendation system (which is `0.99`)"
      ]
    },
    {
      "cell_type": "markdown",
      "metadata": {
        "id": "m6Mv_jGn6Z1o"
      },
      "source": [
        "#### Q 5.2 What is the Predicted  rating for an user with userId =0 and for itemId= 3906 and itemId=100? (1 Mark)"
      ]
    },
    {
      "cell_type": "markdown",
      "metadata": {
        "id": "HD2AU1DnnVNM"
      },
      "source": [
        "Let's us now predict rating for an user with `userId=0` and for `itemId=3906` as shown below"
      ]
    },
    {
      "cell_type": "code",
      "metadata": {
        "colab": {
          "base_uri": "https://localhost:8080/"
        },
        "id": "yWIhfdxXsjqm",
        "outputId": "2ea5224e-4664-45e6-a97a-955dabc4e09a"
      },
      "source": [
        "algo_svd.predict(0,3906, r_ui=4, verbose=True)"
      ],
      "execution_count": null,
      "outputs": [
        {
          "name": "stdout",
          "output_type": "stream",
          "text": [
            "user: 0          item: 3906       r_ui = 4.00   est = 4.65   {'was_impossible': False}\n"
          ]
        },
        {
          "data": {
            "text/plain": [
              "Prediction(uid=0, iid=3906, r_ui=4, est=4.652761917421662, details={'was_impossible': False})"
            ]
          },
          "execution_count": 56,
          "metadata": {},
          "output_type": "execute_result"
        }
      ]
    },
    {
      "cell_type": "markdown",
      "metadata": {
        "id": "oIjzqDY5nVNM"
      },
      "source": [
        "**Write your Answer here:**\n",
        "\n",
        "As we can see - the actual rating for this user-item pair is 4 and predicted rating is 4.63 by this matrix factorization based baseline model. It seems like we have over estimated the rating by a small margin. We will try to fix this later by tuning the hyperparameters of the model using GridSearchCV"
      ]
    },
    {
      "cell_type": "markdown",
      "metadata": {
        "id": "I1aYxVeMnVNM"
      },
      "source": [
        "Below we are predicting rating for the same `userId=0` but for a item which this user has not interacted before i.e. `userId=100`, as shown below - "
      ]
    },
    {
      "cell_type": "code",
      "metadata": {
        "colab": {
          "base_uri": "https://localhost:8080/"
        },
        "id": "APm-uMSvcAMf",
        "outputId": "019946fd-07f5-4d1b-93bb-ab233557683f"
      },
      "source": [
        "algo_svd.predict(0,100, verbose=True)"
      ],
      "execution_count": null,
      "outputs": [
        {
          "name": "stdout",
          "output_type": "stream",
          "text": [
            "user: 0          item: 100        r_ui = None   est = 4.55   {'was_impossible': False}\n"
          ]
        },
        {
          "data": {
            "text/plain": [
              "Prediction(uid=0, iid=100, r_ui=None, est=4.54786090884153, details={'was_impossible': False})"
            ]
          },
          "execution_count": 57,
          "metadata": {},
          "output_type": "execute_result"
        }
      ]
    },
    {
      "cell_type": "markdown",
      "metadata": {
        "id": "NEL6dy3wnVNM"
      },
      "source": [
        "**Write your Answer here:**\n",
        "\n",
        "We can see that estimated rating for this user-item pair is 4.63 based on this matrix factorization based baseline model."
      ]
    },
    {
      "cell_type": "markdown",
      "metadata": {
        "id": "x13Eb9Owvpcw"
      },
      "source": [
        "#### Improving matrix factorization based recommendation system by tuning its hyper-parameters"
      ]
    },
    {
      "cell_type": "markdown",
      "metadata": {
        "id": "qbd3L1d2nVNM"
      },
      "source": [
        "In SVD, rating is predicted as - "
      ]
    },
    {
      "cell_type": "markdown",
      "metadata": {
        "id": "Wp38lmEqnVNM"
      },
      "source": [
        "$$\\hat{r}_{u i}=\\mu+b_{u}+b_{i}+q_{i}^{T} p_{u}$$"
      ]
    },
    {
      "cell_type": "markdown",
      "metadata": {
        "id": "bHVAYuFznVNN"
      },
      "source": [
        "If user $u$ is unknown, then the bias $b_{u}$ and the factors $p_{u}$ are assumed to be zero. The same applies for item $i$ with $b_{i}$ and $q_{i}$."
      ]
    },
    {
      "cell_type": "markdown",
      "metadata": {
        "id": "jCfY5mr7nVNN"
      },
      "source": [
        "To estimate all the unknown, we minimize the following regularized squared error:"
      ]
    },
    {
      "cell_type": "markdown",
      "metadata": {
        "id": "1WyyjmK7nVNN"
      },
      "source": [
        "$$\\sum_{r_{u i} \\in R_{\\text {train }}}\\left(r_{u i}-\\hat{r}_{u i}\\right)^{2}+\\lambda\\left(b_{i}^{2}+b_{u}^{2}+\\left\\|q_{i}\\right\\|^{2}+\\left\\|p_{u}\\right\\|^{2}\\right)$$"
      ]
    },
    {
      "cell_type": "markdown",
      "metadata": {
        "id": "-GBMNL9qnVNN"
      },
      "source": [
        "The minimization is performed by a very straightforward **stochastic gradient descent**:"
      ]
    },
    {
      "cell_type": "markdown",
      "metadata": {
        "id": "CwJJRsJGnVNN"
      },
      "source": [
        "$$\\begin{aligned} b_{u} & \\leftarrow b_{u}+\\gamma\\left(e_{u i}-\\lambda b_{u}\\right) \\\\ b_{i} & \\leftarrow b_{i}+\\gamma\\left(e_{u i}-\\lambda b_{i}\\right) \\\\ p_{u} & \\leftarrow p_{u}+\\gamma\\left(e_{u i} \\cdot q_{i}-\\lambda p_{u}\\right) \\\\ q_{i} & \\leftarrow q_{i}+\\gamma\\left(e_{u i} \\cdot p_{u}-\\lambda q_{i}\\right) \\end{aligned}$$"
      ]
    },
    {
      "cell_type": "markdown",
      "metadata": {
        "id": "nuRjcsUknVNN"
      },
      "source": [
        "There are many hyperparameters to tune in this algorithm, you can find a full list of hyperparameters [here](https://surprise.readthedocs.io/en/stable/matrix_factorization.html#surprise.prediction_algorithms.matrix_factorization.SVD)"
      ]
    },
    {
      "cell_type": "markdown",
      "metadata": {
        "id": "iQcDPhhcnVNN"
      },
      "source": [
        "Below we will be tuning only three hyperparameters -\n",
        "- **n_epochs**: The number of iteration of the SGD algorithm\n",
        "- **lr_all**: The learning rate for all parameters\n",
        "- **reg_all**: The regularization term for all parameters"
      ]
    },
    {
      "cell_type": "markdown",
      "metadata": {
        "id": "fTJ_9Doi6Z1r"
      },
      "source": [
        "#### Q 5.3 Perform hyperparameter tuning for the baseline SVD based collaborative filtering recommendation system and find the RMSE for tuned SVD based collaborative filtering recommendation system? (3 Marks)"
      ]
    },
    {
      "cell_type": "code",
      "metadata": {
        "colab": {
          "base_uri": "https://localhost:8080/"
        },
        "id": "4bM81V_hvtwv",
        "outputId": "6d091622-22c9-45a2-db84-1ece1b0f0bcd"
      },
      "source": [
        "# set the parameter space to tune\n",
        "param_grid = {'n_epochs': [10, 20, 30], 'lr_all': [0.001, 0.005, 0.01],\n",
        "              'reg_all': [0.2, 0.4, 0.6]}\n",
        "\n",
        "# performing 3-fold gridsearch cross validation\n",
        "gs = GridSearchCV(SVD, param_grid, measures=['rmse', 'mae'], cv=3, n_jobs=-1)\n",
        "\n",
        "# fitting data\n",
        "gs.fit(data)\n",
        "\n",
        "# best RMSE score\n",
        "print(gs.best_score['rmse'])\n",
        "\n",
        "# combination of parameters that gave the best RMSE score\n",
        "print(gs.best_params['rmse'])"
      ],
      "execution_count": null,
      "outputs": [
        {
          "name": "stdout",
          "output_type": "stream",
          "text": [
            "0.8987574426306321\n",
            "{'n_epochs': 20, 'lr_all': 0.01, 'reg_all': 0.4}\n"
          ]
        }
      ]
    },
    {
      "cell_type": "markdown",
      "metadata": {
        "id": "cjIaWSIAnVNN"
      },
      "source": [
        "Once the grid search is complete, we can get the optimal values for each of those hyperparameters as shown above"
      ]
    },
    {
      "cell_type": "markdown",
      "metadata": {
        "id": "2CfLdGf0nVNN"
      },
      "source": [
        "Below we are analysing evaluation metrics - RMSE and MAE at each and every split to analyze the impact of each value of hyperparameters"
      ]
    },
    {
      "cell_type": "code",
      "metadata": {
        "colab": {
          "base_uri": "https://localhost:8080/",
          "height": 564
        },
        "id": "RMb3t3z_vt8W",
        "outputId": "0d1d358c-3d42-4760-e865-9db22b027906"
      },
      "source": [
        "results_df = pd.DataFrame.from_dict(gs.cv_results)\n",
        "results_df.head()"
      ],
      "execution_count": null,
      "outputs": [
        {
          "data": {
            "text/html": [
              "<div>\n",
              "<style scoped>\n",
              "    .dataframe tbody tr th:only-of-type {\n",
              "        vertical-align: middle;\n",
              "    }\n",
              "\n",
              "    .dataframe tbody tr th {\n",
              "        vertical-align: top;\n",
              "    }\n",
              "\n",
              "    .dataframe thead th {\n",
              "        text-align: right;\n",
              "    }\n",
              "</style>\n",
              "<table border=\"1\" class=\"dataframe\">\n",
              "  <thead>\n",
              "    <tr style=\"text-align: right;\">\n",
              "      <th></th>\n",
              "      <th>split0_test_rmse</th>\n",
              "      <th>split1_test_rmse</th>\n",
              "      <th>split2_test_rmse</th>\n",
              "      <th>mean_test_rmse</th>\n",
              "      <th>std_test_rmse</th>\n",
              "      <th>rank_test_rmse</th>\n",
              "      <th>split0_test_mae</th>\n",
              "      <th>split1_test_mae</th>\n",
              "      <th>split2_test_mae</th>\n",
              "      <th>mean_test_mae</th>\n",
              "      <th>std_test_mae</th>\n",
              "      <th>rank_test_mae</th>\n",
              "      <th>mean_fit_time</th>\n",
              "      <th>std_fit_time</th>\n",
              "      <th>mean_test_time</th>\n",
              "      <th>std_test_time</th>\n",
              "      <th>params</th>\n",
              "      <th>param_n_epochs</th>\n",
              "      <th>param_lr_all</th>\n",
              "      <th>param_reg_all</th>\n",
              "    </tr>\n",
              "  </thead>\n",
              "  <tbody>\n",
              "    <tr>\n",
              "      <th>0</th>\n",
              "      <td>0.961238</td>\n",
              "      <td>0.954275</td>\n",
              "      <td>0.945342</td>\n",
              "      <td>0.953618</td>\n",
              "      <td>0.006506</td>\n",
              "      <td>25</td>\n",
              "      <td>0.742663</td>\n",
              "      <td>0.736844</td>\n",
              "      <td>0.733244</td>\n",
              "      <td>0.737584</td>\n",
              "      <td>0.003880</td>\n",
              "      <td>25</td>\n",
              "      <td>2.622105</td>\n",
              "      <td>0.025161</td>\n",
              "      <td>0.413794</td>\n",
              "      <td>0.010830</td>\n",
              "      <td>{'n_epochs': 10, 'lr_all': 0.001, 'reg_all': 0.2}</td>\n",
              "      <td>10</td>\n",
              "      <td>0.001</td>\n",
              "      <td>0.2</td>\n",
              "    </tr>\n",
              "    <tr>\n",
              "      <th>1</th>\n",
              "      <td>0.960780</td>\n",
              "      <td>0.954039</td>\n",
              "      <td>0.946712</td>\n",
              "      <td>0.953844</td>\n",
              "      <td>0.005745</td>\n",
              "      <td>26</td>\n",
              "      <td>0.743075</td>\n",
              "      <td>0.738330</td>\n",
              "      <td>0.734709</td>\n",
              "      <td>0.738705</td>\n",
              "      <td>0.003426</td>\n",
              "      <td>26</td>\n",
              "      <td>2.485003</td>\n",
              "      <td>0.016381</td>\n",
              "      <td>0.342158</td>\n",
              "      <td>0.010771</td>\n",
              "      <td>{'n_epochs': 10, 'lr_all': 0.001, 'reg_all': 0.4}</td>\n",
              "      <td>10</td>\n",
              "      <td>0.001</td>\n",
              "      <td>0.4</td>\n",
              "    </tr>\n",
              "    <tr>\n",
              "      <th>2</th>\n",
              "      <td>0.961701</td>\n",
              "      <td>0.955202</td>\n",
              "      <td>0.946208</td>\n",
              "      <td>0.954370</td>\n",
              "      <td>0.006352</td>\n",
              "      <td>27</td>\n",
              "      <td>0.744742</td>\n",
              "      <td>0.739973</td>\n",
              "      <td>0.735658</td>\n",
              "      <td>0.740124</td>\n",
              "      <td>0.003710</td>\n",
              "      <td>27</td>\n",
              "      <td>2.625890</td>\n",
              "      <td>0.133426</td>\n",
              "      <td>0.340352</td>\n",
              "      <td>0.030951</td>\n",
              "      <td>{'n_epochs': 10, 'lr_all': 0.001, 'reg_all': 0.6}</td>\n",
              "      <td>10</td>\n",
              "      <td>0.001</td>\n",
              "      <td>0.6</td>\n",
              "    </tr>\n",
              "    <tr>\n",
              "      <th>3</th>\n",
              "      <td>0.920987</td>\n",
              "      <td>0.913973</td>\n",
              "      <td>0.906020</td>\n",
              "      <td>0.913660</td>\n",
              "      <td>0.006115</td>\n",
              "      <td>16</td>\n",
              "      <td>0.689850</td>\n",
              "      <td>0.686145</td>\n",
              "      <td>0.680988</td>\n",
              "      <td>0.685661</td>\n",
              "      <td>0.003634</td>\n",
              "      <td>16</td>\n",
              "      <td>2.577065</td>\n",
              "      <td>0.134741</td>\n",
              "      <td>0.292487</td>\n",
              "      <td>0.001597</td>\n",
              "      <td>{'n_epochs': 10, 'lr_all': 0.005, 'reg_all': 0.2}</td>\n",
              "      <td>10</td>\n",
              "      <td>0.005</td>\n",
              "      <td>0.2</td>\n",
              "    </tr>\n",
              "    <tr>\n",
              "      <th>4</th>\n",
              "      <td>0.921237</td>\n",
              "      <td>0.914147</td>\n",
              "      <td>0.906905</td>\n",
              "      <td>0.914096</td>\n",
              "      <td>0.005851</td>\n",
              "      <td>17</td>\n",
              "      <td>0.693733</td>\n",
              "      <td>0.689919</td>\n",
              "      <td>0.686119</td>\n",
              "      <td>0.689924</td>\n",
              "      <td>0.003108</td>\n",
              "      <td>17</td>\n",
              "      <td>2.643110</td>\n",
              "      <td>0.164642</td>\n",
              "      <td>0.319416</td>\n",
              "      <td>0.011140</td>\n",
              "      <td>{'n_epochs': 10, 'lr_all': 0.005, 'reg_all': 0.4}</td>\n",
              "      <td>10</td>\n",
              "      <td>0.005</td>\n",
              "      <td>0.4</td>\n",
              "    </tr>\n",
              "  </tbody>\n",
              "</table>\n",
              "</div>"
            ],
            "text/plain": [
              "   split0_test_rmse  split1_test_rmse  split2_test_rmse  mean_test_rmse  \\\n",
              "0          0.961238          0.954275          0.945342        0.953618   \n",
              "1          0.960780          0.954039          0.946712        0.953844   \n",
              "2          0.961701          0.955202          0.946208        0.954370   \n",
              "3          0.920987          0.913973          0.906020        0.913660   \n",
              "4          0.921237          0.914147          0.906905        0.914096   \n",
              "\n",
              "   std_test_rmse  rank_test_rmse  split0_test_mae  split1_test_mae  \\\n",
              "0       0.006506              25         0.742663         0.736844   \n",
              "1       0.005745              26         0.743075         0.738330   \n",
              "2       0.006352              27         0.744742         0.739973   \n",
              "3       0.006115              16         0.689850         0.686145   \n",
              "4       0.005851              17         0.693733         0.689919   \n",
              "\n",
              "   split2_test_mae  mean_test_mae  std_test_mae  rank_test_mae  mean_fit_time  \\\n",
              "0         0.733244       0.737584      0.003880             25       2.622105   \n",
              "1         0.734709       0.738705      0.003426             26       2.485003   \n",
              "2         0.735658       0.740124      0.003710             27       2.625890   \n",
              "3         0.680988       0.685661      0.003634             16       2.577065   \n",
              "4         0.686119       0.689924      0.003108             17       2.643110   \n",
              "\n",
              "   std_fit_time  mean_test_time  std_test_time  \\\n",
              "0      0.025161        0.413794       0.010830   \n",
              "1      0.016381        0.342158       0.010771   \n",
              "2      0.133426        0.340352       0.030951   \n",
              "3      0.134741        0.292487       0.001597   \n",
              "4      0.164642        0.319416       0.011140   \n",
              "\n",
              "                                              params  param_n_epochs  \\\n",
              "0  {'n_epochs': 10, 'lr_all': 0.001, 'reg_all': 0.2}              10   \n",
              "1  {'n_epochs': 10, 'lr_all': 0.001, 'reg_all': 0.4}              10   \n",
              "2  {'n_epochs': 10, 'lr_all': 0.001, 'reg_all': 0.6}              10   \n",
              "3  {'n_epochs': 10, 'lr_all': 0.005, 'reg_all': 0.2}              10   \n",
              "4  {'n_epochs': 10, 'lr_all': 0.005, 'reg_all': 0.4}              10   \n",
              "\n",
              "   param_lr_all  param_reg_all  \n",
              "0         0.001            0.2  \n",
              "1         0.001            0.4  \n",
              "2         0.001            0.6  \n",
              "3         0.005            0.2  \n",
              "4         0.005            0.4  "
            ]
          },
          "execution_count": 59,
          "metadata": {},
          "output_type": "execute_result"
        }
      ]
    },
    {
      "cell_type": "markdown",
      "metadata": {
        "id": "KzY78HsrnVNO"
      },
      "source": [
        "Now we will building final model by using tuned values of the hyperparameters which we received by using grid search cross validation"
      ]
    },
    {
      "cell_type": "code",
      "metadata": {
        "colab": {
          "base_uri": "https://localhost:8080/"
        },
        "id": "TA_7xe-nnhuu",
        "outputId": "3800eedd-09c7-409e-a554-b836f99bbc07"
      },
      "source": [
        "# building the optimized SVD model using optimal hyperparameter search\n",
        "svd_algo_optimized = SVD(n_epochs=20, lr_all=0.01, reg_all=0.2)\n",
        "\n",
        "# training the algorithm on the trainset\n",
        "svd_algo_optimized.fit(trainset)\n",
        "\n",
        "# predicting ratings for the testset\n",
        "predictions = svd_algo_optimized.test(testset)\n",
        "\n",
        "# computing RMSE\n",
        "accuracy.rmse(predictions)"
      ],
      "execution_count": null,
      "outputs": [
        {
          "name": "stdout",
          "output_type": "stream",
          "text": [
            "RMSE: 0.9235\n"
          ]
        },
        {
          "data": {
            "text/plain": [
              "0.9234545758579447"
            ]
          },
          "execution_count": 60,
          "metadata": {},
          "output_type": "execute_result"
        }
      ]
    },
    {
      "cell_type": "markdown",
      "metadata": {
        "id": "-TYTJrFc6Z1s"
      },
      "source": [
        "#### Q 5.4 What is the Predicted rating for an user with userId=0 and for itemId= 3906 and itemId=100 using SVD based collaborative filtering? (1 Mark)"
      ]
    },
    {
      "cell_type": "markdown",
      "metadata": {
        "id": "md0-dL56nVNO"
      },
      "source": [
        "Let's us now predict rating for an user with `userId=0` and for `itemId=3906` with the optimized model as shown below"
      ]
    },
    {
      "cell_type": "code",
      "metadata": {
        "colab": {
          "base_uri": "https://localhost:8080/"
        },
        "id": "s6C1PAfboM8_",
        "outputId": "99c74f81-594a-4666-a671-32a5efa6ddd0"
      },
      "source": [
        "svd_algo_optimized.predict(0,3906, r_ui=4, verbose=True)"
      ],
      "execution_count": null,
      "outputs": [
        {
          "name": "stdout",
          "output_type": "stream",
          "text": [
            "user: 0          item: 3906       r_ui = 4.00   est = 4.83   {'was_impossible': False}\n"
          ]
        },
        {
          "data": {
            "text/plain": [
              "Prediction(uid=0, iid=3906, r_ui=4, est=4.829883523793819, details={'was_impossible': False})"
            ]
          },
          "execution_count": 61,
          "metadata": {},
          "output_type": "execute_result"
        }
      ]
    },
    {
      "cell_type": "markdown",
      "metadata": {
        "id": "VdiEtzEznVNO"
      },
      "source": [
        "\n",
        "**Write your Answer here:**\n",
        "\n",
        "If we compare the above predicted rating, we can see the baseline model predicted rating as `4.63` and the optimized model predicted the rating as `4.85`. whereas the actual rating is `4`."
      ]
    },
    {
      "cell_type": "code",
      "metadata": {
        "colab": {
          "base_uri": "https://localhost:8080/"
        },
        "id": "k1xjn3kOoQyg",
        "outputId": "1851d180-d231-4b53-f6cc-734485742cc8"
      },
      "source": [
        "svd_algo_optimized.predict(0,100, verbose=True)"
      ],
      "execution_count": null,
      "outputs": [
        {
          "name": "stdout",
          "output_type": "stream",
          "text": [
            "user: 0          item: 100        r_ui = None   est = 4.56   {'was_impossible': False}\n"
          ]
        },
        {
          "data": {
            "text/plain": [
              "Prediction(uid=0, iid=100, r_ui=None, est=4.558043541418944, details={'was_impossible': False})"
            ]
          },
          "execution_count": 62,
          "metadata": {},
          "output_type": "execute_result"
        }
      ]
    },
    {
      "cell_type": "markdown",
      "metadata": {
        "id": "xNy4VoXW6Z1s"
      },
      "source": [
        "#### Q 5.5 Predict the top 5 items for userId=4 with SVD based recommendation system ?"
      ]
    },
    {
      "cell_type": "code",
      "metadata": {
        "colab": {
          "base_uri": "https://localhost:8080/"
        },
        "id": "1LGeE2EB_n90",
        "outputId": "6143f5e8-f3ef-43bf-aba0-fcdc64d8c5f1"
      },
      "source": [
        "get_recommendations(df,4, 5, svd_algo_optimized)"
      ],
      "execution_count": null,
      "outputs": [
        {
          "data": {
            "text/plain": [
              "[(5194, 5),\n",
              " (1366, 4.962386415973041),\n",
              " (1510, 4.945081865437508),\n",
              " (1597, 4.944398800612381),\n",
              " (4638, 4.937350385678846)]"
            ]
          },
          "execution_count": 63,
          "metadata": {},
          "output_type": "execute_result"
        }
      ]
    },
    {
      "cell_type": "markdown",
      "metadata": {
        "id": "xgKmqss1vqGz"
      },
      "source": [
        "### Predicting ratings for already interacted items"
      ]
    },
    {
      "cell_type": "markdown",
      "metadata": {
        "id": "eEHotB5bhFYE"
      },
      "source": [
        "Below we are comparing the rating predictions of users for those items which has been already watched by an user. This will help us to understand how well are predictions are as compared to the actual ratings provided by users"
      ]
    },
    {
      "cell_type": "code",
      "metadata": {
        "id": "hQIPHA7-vg7W"
      },
      "source": [
        "def predict_already_interacted_ratings(data, user_id, algo):\n",
        "    \n",
        "    # creating an empty list to store the recommended item ids\n",
        "    recommendations = []\n",
        "    \n",
        "    # creating an user item interactions matrix \n",
        "    user_item_interactions_matrix = data.pivot(index='user_id', columns='item_id', values='rating')\n",
        "    \n",
        "    # extracting those item ids which the user_id has interacted already\n",
        "    interacted_items = user_item_interactions_matrix.loc[user_id][user_item_interactions_matrix.loc[user_id].notnull()].index.tolist()\n",
        "    \n",
        "    # looping through each of the item id which user_id has interacted already\n",
        "    for item_id in interacted_items:\n",
        "        \n",
        "        # extracting actual ratings\n",
        "        actual_rating = user_item_interactions_matrix.loc[user_id, item_id]\n",
        "        \n",
        "        # predicting the ratings for those non interacted item ids by this user\n",
        "        predicted_rating = algo.predict(user_id, item_id).est\n",
        "        \n",
        "        # appending the predicted ratings\n",
        "        recommendations.append((item_id, actual_rating, predicted_rating))\n",
        "\n",
        "    # sorting the predicted ratings in descending order\n",
        "    recommendations.sort(key=lambda x: x[1], reverse=True)\n",
        "\n",
        "    return pd.DataFrame(recommendations, columns=['itemId', 'actual_rating', 'predicted_rating']) # returing top n highest predicted rating items for this user"
      ],
      "execution_count": null,
      "outputs": []
    },
    {
      "cell_type": "markdown",
      "metadata": {
        "id": "wqfd_lnnhFYE"
      },
      "source": [
        "Here we are comparing the predicted ratings by `similarity based recommendation` system against actual ratings for `userId=4`"
      ]
    },
    {
      "cell_type": "code",
      "metadata": {
        "colab": {
          "base_uri": "https://localhost:8080/",
          "height": 369
        },
        "id": "IWQvGj-vyWj3",
        "scrolled": false,
        "outputId": "72bd7880-0a47-4292-bc4b-3bab20de05fd"
      },
      "source": [
        "predicted_ratings_for_interacted_items = predict_already_interacted_ratings(df,4, similarity_algo_optimized)\n",
        "data = predicted_ratings_for_interacted_items.melt(id_vars='itemId', value_vars=['actual_rating', 'predicted_rating'])\n",
        "sns.displot(data=data, x='value', hue='variable', kde=True);"
      ],
      "execution_count": null,
      "outputs": [
        {
          "data": {
            "image/png": "[encoded data removed]",
            "text/plain": [
              "<Figure size 478.125x360 with 1 Axes>"
            ]
          },
          "metadata": {
            "needs_background": "light"
          },
          "output_type": "display_data"
        }
      ]
    },
    {
      "cell_type": "markdown",
      "metadata": {
        "id": "7E6K5sFrhFYE"
      },
      "source": [
        "**Write your Answer here:**\n",
        "\n",
        "- We can see that distribution of predicted ratings is closely following the distribution of actual ratings. The total bins for predicted ratings are nearly same as to the total bins for actual ratings.\n",
        "- We are getting more predicted values in between 4 and 5,this is expected, as actual ratings always have discreet values like 1, 2, 3, 4, 5, but predicted ratings can have continuous values as we are taking aggregated ratings from the nearest neighbors of a given user. But over the predictions looks good as compared to the distribution of actual ratings."
      ]
    },
    {
      "cell_type": "markdown",
      "metadata": {
        "id": "dD6iLaDLhFYF"
      },
      "source": [
        "Below we are comparing the predicted ratings by `matrix factorization based recommendation` system against actual ratings for `userId=4`"
      ]
    },
    {
      "cell_type": "code",
      "metadata": {
        "colab": {
          "base_uri": "https://localhost:8080/",
          "height": 369
        },
        "id": "6lYjMDhU0xuQ",
        "outputId": "76a12b49-8a9f-4742-f16b-26519a4c23fe"
      },
      "source": [
        "predicted_ratings_for_interacted_items = predict_already_interacted_ratings(df,4, svd_algo_optimized)\n",
        "data = predicted_ratings_for_interacted_items.melt(id_vars='itemId', value_vars=['actual_rating', 'predicted_rating'])\n",
        "sns.displot(data=data, x='value', hue='variable', kde=True);"
      ],
      "execution_count": null,
      "outputs": [
        {
          "data": {
            "image/png": "[encoded data removed]",
            "text/plain": [
              "<Figure size 478.125x360 with 1 Axes>"
            ]
          },
          "metadata": {
            "needs_background": "light"
          },
          "output_type": "display_data"
        }
      ]
    },
    {
      "cell_type": "code",
      "metadata": {
        "id": "oiQ7WxNZ6Z1u"
      },
      "source": [
        "# instantiating Reader scale with expected rating scale\n",
        "reader = Reader(rating_scale=(0, 5))\n",
        "\n",
        "# loading the rating dataset\n",
        "data = Dataset.load_from_df(rating[['user_id', 'item_id', 'rating']], reader)\n",
        "\n",
        "# splitting the data into train and test dataset\n",
        "trainset, testset = train_test_split(data, test_size=0.2, random_state=42)"
      ],
      "execution_count": null,
      "outputs": []
    },
    {
      "cell_type": "markdown",
      "metadata": {
        "id": "qVjTo-Ye6Z1u"
      },
      "source": [
        "## Precision and Recall @ k\n",
        "\n",
        "RMSE is not the only metric we can use here. We can also examine two fundamental measures, precision and recall. We also add a parameter k which is helpful in understanding problems with multiple rating outputs.\n",
        "\n",
        "See the Precision and Recall @ k section of your notebook and follow the instructions to compute various precision/recall values at various values of k.\n",
        "\n",
        "To know more about precision recall in Recommendation systems refer to these links : \n",
        "\n",
        "https://surprise.readthedocs.io/en/stable/FAQ.html\n",
        "\n",
        "https://medium.com/@m_n_malaeb/recall-and-precision-at-k-for-recommender-systems-618483226c54"
      ]
    },
    {
      "cell_type": "markdown",
      "metadata": {
        "id": "pobXSzh26Z1u"
      },
      "source": [
        "### Question6: Compute the precision and recall, for each of the 4 models, at k = 5 and 10. This is 2 x 2 x 4 = 16 numerical values. Do you note anything interesting about these values?  (4 Marks)"
      ]
    },
    {
      "cell_type": "code",
      "metadata": {
        "id": "JdD-MrbzhFYF"
      },
      "source": [
        "from collections import defaultdict\n",
        "#function can be found on surprise documentation FAQs\n",
        "def precision_recall_at_k(predictions, k=10, threshold=3.5):\n",
        "    \"\"\"Return precision and recall at k metrics for each user\"\"\"\n",
        "\n",
        "    # First map the predictions to each user.\n",
        "    user_est_true = defaultdict(list)\n",
        "    for uid, _, true_r, est, _ in predictions:\n",
        "        user_est_true[uid].append((est, true_r))\n",
        "\n",
        "    precisions = dict()\n",
        "    recalls = dict()\n",
        "    for uid, user_ratings in user_est_true.items():\n",
        "\n",
        "        # Sort user ratings by estimated value\n",
        "        user_ratings.sort(key=lambda x: x[0], reverse=True)\n",
        "\n",
        "        # Number of relevant items\n",
        "        n_rel = sum((true_r >= threshold) for (_, true_r) in user_ratings)\n",
        "\n",
        "        # Number of recommended items in top k\n",
        "        n_rec_k = sum((est >= threshold) for (est, _) in user_ratings[:k])\n",
        "\n",
        "        # Number of relevant and recommended items in top k\n",
        "        n_rel_and_rec_k = sum(((true_r >= threshold) and (est >= threshold))\n",
        "                              for (est, true_r) in user_ratings[:k])\n",
        "\n",
        "        # Precision@K: Proportion of recommended items that are relevant\n",
        "        # When n_rec_k is 0, Precision is undefined. We here set it to 0.\n",
        "\n",
        "        precisions[uid] = n_rel_and_rec_k / n_rec_k if n_rec_k != 0 else 0\n",
        "\n",
        "        # Recall@K: Proportion of relevant items that are recommended\n",
        "        # When n_rel is 0, Recall is undefined. We here set it to 0.\n",
        "\n",
        "        recalls[uid] = n_rel_and_rec_k / n_rel if n_rel != 0 else 0\n",
        "\n",
        "    return precisions, recalls"
      ],
      "execution_count": null,
      "outputs": []
    },
    {
      "cell_type": "code",
      "metadata": {
        "colab": {
          "base_uri": "https://localhost:8080/",
          "height": 231
        },
        "id": "6jmohp85hFYF",
        "outputId": "f79d4c21-4b67-46cc-9ca1-709a265e5034"
      },
      "source": [
        "# Make list of k values\n",
        "#A basic cross-validation iterator.\n",
        "from surprise.model_selection import KFold\n",
        "kf = KFold(n_splits=5)\n",
        "K = [5, 10]\n",
        "\n",
        "# Make list of models\n",
        "models = [algo_knn_user, similarity_algo_optimized,algo_knn_item,similarity_algo_optimized_item, algo_svd, svd_algo_optimized]\n",
        "\n",
        "\n",
        "for k in K:\n",
        "    for model in models:\n",
        "        print('> k={}, model={}'.format(k,model.__class__.__name__))\n",
        "        p = []\n",
        "        r = []\n",
        "        for trainset, testset in kf.split(data):\n",
        "            model.fit(trainset)\n",
        "            predictions = model.test(testset, verbose=False)\n",
        "            precisions, recalls = precision_recall_at_k(predictions, k=k, threshold=3.5)\n",
        "\n",
        "            # Precision and recall can then be averaged over all users\n",
        "            p.append(sum(prec for prec in precisions.values()) / len(precisions))\n",
        "            r.append(sum(rec for rec in recalls.values()) / len(recalls))\n",
        "        print('-----> Precision: ', round(sum(p) / len(p), 3))\n",
        "        print('-----> Recall: ', round(sum(r) / len(r), 3))"
      ],
      "execution_count": null,
      "outputs": [
        {
          "name": "stdout",
          "output_type": "stream",
          "text": [
            "> k=5, model=KNNBasic\n",
            "-----> Precision:  0.87\n",
            "-----> Recall:  0.687\n",
            "> k=5, model=KNNBasic\n",
            "Computing the cosine similarity matrix...\n",
            "Done computing similarity matrix.\n",
            "Computing the cosine similarity matrix...\n",
            "Done computing similarity matrix.\n",
            "Computing the cosine similarity matrix...\n",
            "Done computing similarity matrix.\n",
            "Computing the cosine similarity matrix...\n",
            "Done computing similarity matrix.\n",
            "Computing the cosine similarity matrix...\n",
            "Done computing similarity matrix.\n",
            "-----> Precision:  0.859\n",
            "-----> Recall:  0.7\n",
            "> k=5, model=KNNBasic\n",
            "-----> Precision:  0.833\n",
            "-----> Recall:  0.658\n",
            "> k=5, model=KNNBasic\n",
            "-----> Precision:  0.837\n",
            "-----> Recall:  0.681\n",
            "> k=5, model=SVD\n",
            "-----> Precision:  0.868\n",
            "-----> Recall:  0.695\n",
            "> k=5, model=SVD\n",
            "-----> Precision:  0.872\n",
            "-----> Recall:  0.698\n",
            "> k=10, model=KNNBasic\n",
            "-----> Precision:  0.854\n",
            "-----> Recall:  0.861\n",
            "> k=10, model=KNNBasic\n",
            "Computing the cosine similarity matrix...\n",
            "Done computing similarity matrix.\n",
            "Computing the cosine similarity matrix...\n",
            "Done computing similarity matrix.\n",
            "Computing the cosine similarity matrix...\n",
            "Done computing similarity matrix.\n",
            "Computing the cosine similarity matrix...\n",
            "Done computing similarity matrix.\n",
            "Computing the cosine similarity matrix...\n",
            "Done computing similarity matrix.\n",
            "-----> Precision:  0.846\n",
            "-----> Recall:  0.899\n",
            "> k=10, model=KNNBasic\n",
            "-----> Precision:  0.832\n",
            "-----> Recall:  0.843\n",
            "> k=10, model=KNNBasic\n",
            "-----> Precision:  0.835\n",
            "-----> Recall:  0.874\n",
            "> k=10, model=SVD\n",
            "-----> Precision:  0.85\n",
            "-----> Recall:  0.882\n",
            "> k=10, model=SVD\n",
            "-----> Precision:  0.851\n",
            "-----> Recall:  0.884\n"
          ]
        }
      ]
    },
    {
      "cell_type": "markdown",
      "metadata": {
        "id": "73nI1UOU1vMV"
      },
      "source": [
        "### Question 7 ( 5 Marks)\n",
        "#### 7.1 Compare the results from the base line user-user and item-item based models.\n",
        "#### 7.2 How do these baseline models compare to each other with respect to the tuned user-user and item-item models?\n",
        "#### 7.3 The matrix factorization model is different from the collaborative filtering models. Briefly describe this difference. Also, compare the RMSE and precision recall for the models.\n",
        "#### 7.4 Does it improve? Can you offer any reasoning as to why that might be?"
      ]
    },
    {
      "cell_type": "markdown",
      "metadata": {
        "id": "G_S6JLQl1vMV"
      },
      "source": [
        "**Write your Answer here:**\n",
        "\n",
        "- User-based and Item-based Collaborative Models have nearly same. User based RMSE values (1.05) while the \"Item based\" model's RMSE is 1.06. Clearly, tuned Collaborative Filtering Models have performed better than baseline model and the user-user based tuned model is performing better and have  rmse of 0.9887\n",
        "\n",
        "- The Collaborative Models use the user-item-ratings data to find similarities and make predictions rather than just predicting a random rating based on the distribution of the data. This could a reason why the Collaborative filtering performed well.\n",
        "\n",
        "- Collaborative Filtering searches for neighbors based on similarity of item (example) preferences and recommend items that those neighbors interacted while Matrix factorization works by decomposing the user-item matrix into the product of two lower dimensionality rectangular matrices.\n",
        "\n",
        "- RMSE for Matrix Factorization (0.92) is better than the Collaborative Filtering Models (~1.00).\n",
        "- Tuning SVD matrix factorization model is not improving the base line SVD much.  \n",
        "- Matrix Factorization has lower RMSE due to the reason that it assumes that both items and users are present in some low dimensional space describing their properties and recommend a item based on its proximity to the user in the latent space. Implying it accounts for latent factors as well."
      ]
    },
    {
      "cell_type": "markdown",
      "metadata": {
        "id": "TgDOPCXOvOOM"
      },
      "source": [
        "### Conclusions"
      ]
    },
    {
      "cell_type": "markdown",
      "metadata": {
        "id": "WJ4L2PwQvOOM"
      },
      "source": [
        "In this case study, we saw three different ways of building recommendation systems: \n",
        "- rank-based using averages\n",
        "- similarity-based collaborative filtering\n",
        "- model-based (matrix factorization) collaborative filtering"
      ]
    },
    {
      "cell_type": "markdown",
      "metadata": {
        "id": "4XP9B9bVvOOM"
      },
      "source": [
        "We also understood advantages/disadvantages of these recommendation systems and when to use which kind of recommendation systems. Once we build these recommendation systems, we can use **A/B Testing** to measure the effectiveness of these systems."
      ]
    },
    {
      "cell_type": "markdown",
      "metadata": {
        "id": "fAQfeVYLvOOM"
      },
      "source": [
        "Here is an article explaining how [Amazon use **A/B Testing**](https://aws.amazon.com/blogs/machine-learning/using-a-b-testing-to-measure-the-efficacy-of-recommendations-generated-by-amazon-personalize/) to measure effectiveness of its recommendation systems."
      ]
    }
  ]
}